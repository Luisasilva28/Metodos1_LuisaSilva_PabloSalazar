{
 "cells": [
  {
   "cell_type": "markdown",
   "id": "8e7c203b-99f7-4ea8-90f9-8d2365f44a1f",
   "metadata": {
    "tags": []
   },
   "source": [
    "# Cálculo de error"
   ]
  },
  {
   "cell_type": "markdown",
   "id": "3e31e4eb-cc31-49e2-9efc-1405e8836bd4",
   "metadata": {},
   "source": [
    "Podemos usar la ecuación de Newton-Cortez para determinar el error:\n",
    "$$E(f)=\\frac{h^{n+2}f^{(n+1)}(ε)}{(n+1)!} \\int_{0}^n x(x-1)(x-2)...(x-n)dx$$ ---(Expresión 1)"
   ]
  },
  {
   "cell_type": "markdown",
   "id": "3d6f9077-0f5b-41e3-8bd3-c3f151734fd9",
   "metadata": {
    "tags": []
   },
   "source": [
    "Si consideramos la integral dada como pista:\n",
    "$$I=\\int_{0}^{3h} x(x-h)(x-2h)(x-3h)dx$$---(Expresión 2)"
   ]
  },
  {
   "cell_type": "markdown",
   "id": "2c582714-6697-48c5-91e7-a28dbe506e29",
   "metadata": {},
   "source": [
    "En este caso n=3. Y si tomamos h=1 obtenemos:\n",
    "$$I=\\int_{0}^{3} x(x-1)(x-2)(x-3)dx$$ ---(Expresión 3)"
   ]
  },
  {
   "cell_type": "markdown",
   "id": "85733221-37e4-427f-bd7a-e16005713903",
   "metadata": {},
   "source": [
    "Es decir obtenemos la integral de la primera ecuación. Luego para calcular el error obtenemos:\n",
    "$$E(f)=\\frac{h^{5}f^{(4)}(ε)}{4!} \\int_{0}^3 x(x-1)(x-2)(x-3)dx$$---(Expresión 4)"
   ]
  },
  {
   "cell_type": "markdown",
   "id": "9757d29b-787d-4e3e-841d-99010cbf7227",
   "metadata": {},
   "source": [
    "# Usando Sympy"
   ]
  },
  {
   "cell_type": "code",
   "execution_count": 1,
   "id": "bfccb098-5b16-4849-96d2-0d9b02e99330",
   "metadata": {},
   "outputs": [],
   "source": [
    "import sympy as sym"
   ]
  },
  {
   "cell_type": "code",
   "execution_count": 2,
   "id": "9c840a08-a612-4fad-ba4f-b56754069e85",
   "metadata": {},
   "outputs": [],
   "source": [
    "x=sym.Symbol('x')\n",
    "f=sym.Symbol('f',commutative=False)\n",
    "comillas=sym.Symbol('\"')\n",
    "epsilon=sym.Symbol('(ε)',commutative=False)"
   ]
  },
  {
   "cell_type": "markdown",
   "id": "8d0aa97e-e5cc-4e56-a51f-0baea652c06c",
   "metadata": {},
   "source": [
    "Usamos la expresión 3 para la integral:"
   ]
  },
  {
   "cell_type": "code",
   "execution_count": 3,
   "id": "2e9a2b2d-1d20-4d60-9fda-776be8d1522c",
   "metadata": {},
   "outputs": [
    {
     "data": {
      "text/latex": [
       "$\\displaystyle x \\left(x - 3\\right) \\left(x - 2\\right) \\left(x - 1\\right)$"
      ],
      "text/plain": [
       "x*(x - 3)*(x - 2)*(x - 1)"
      ]
     },
     "execution_count": 3,
     "metadata": {},
     "output_type": "execute_result"
    }
   ],
   "source": [
    "h=1\n",
    "funcion=(x)*(x-h)*(x-2*h)*(x-3*h)\n",
    "funcion"
   ]
  },
  {
   "cell_type": "code",
   "execution_count": 4,
   "id": "8ba01453-e407-48f1-88da-1ca677a6f1a3",
   "metadata": {},
   "outputs": [
    {
     "data": {
      "text/latex": [
       "$\\displaystyle - \\frac{9}{10}$"
      ],
      "text/plain": [
       "-9/10"
      ]
     },
     "execution_count": 4,
     "metadata": {},
     "output_type": "execute_result"
    }
   ],
   "source": [
    "integral=sym.integrate(funcion,(x,0,3))\n",
    "integral"
   ]
  },
  {
   "cell_type": "markdown",
   "id": "fa39cb36-6f98-4aee-91f1-55e6f4cda0ed",
   "metadata": {},
   "source": [
    "Tomamos n=3 y hallamos el término del error de la expresión 1:"
   ]
  },
  {
   "cell_type": "code",
   "execution_count": 7,
   "id": "63d98dc3-70fc-4ac3-aa7a-c1565b43df38",
   "metadata": {},
   "outputs": [
    {
     "data": {
      "text/latex": [
       "$\\displaystyle \\frac{h^{5} f^{4 \"} (ε)}{24}$"
      ],
      "text/plain": [
       "h**5*f**(4*\")*(ε)/24"
      ]
     },
     "execution_count": 7,
     "metadata": {},
     "output_type": "execute_result"
    }
   ],
   "source": [
    "n=3\n",
    "h=sym.Symbol('h')\n",
    "numerador=h**(n+2)\n",
    "denominador=sym.factorial(n+1)\n",
    "numerador*(f**((n+1)*comillas)*epsilon)/denominador"
   ]
  },
  {
   "cell_type": "markdown",
   "id": "9e75fdfa-0953-4b02-9145-7e9ecef627f5",
   "metadata": {},
   "source": [
    "Multiplicamos ahora ambas expresiones y obtenemos: "
   ]
  },
  {
   "cell_type": "code",
   "execution_count": 8,
   "id": "f1e9c029-9c22-434a-92a8-23b0bea934ba",
   "metadata": {},
   "outputs": [
    {
     "data": {
      "text/latex": [
       "$\\displaystyle - \\frac{3 h^{5} f^{4 \"} (ε)}{80}$"
      ],
      "text/plain": [
       "-3*h**5*f**(4*\")*(ε)/80"
      ]
     },
     "execution_count": 8,
     "metadata": {},
     "output_type": "execute_result"
    }
   ],
   "source": [
    "error=integral*numerador*(f**((n+1)*comillas)*epsilon)/denominador\n",
    "error"
   ]
  }
 ],
 "metadata": {
  "kernelspec": {
   "display_name": "Python 3 (ipykernel)",
   "language": "python",
   "name": "python3"
  },
  "language_info": {
   "codemirror_mode": {
    "name": "ipython",
    "version": 3
   },
   "file_extension": ".py",
   "mimetype": "text/x-python",
   "name": "python",
   "nbconvert_exporter": "python",
   "pygments_lexer": "ipython3",
   "version": "3.10.6"
  }
 },
 "nbformat": 4,
 "nbformat_minor": 5
}
