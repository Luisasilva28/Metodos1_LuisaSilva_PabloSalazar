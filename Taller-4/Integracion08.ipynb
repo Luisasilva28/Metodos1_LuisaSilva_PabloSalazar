{
 "cells": [
  {
   "cell_type": "code",
   "execution_count": 1,
   "id": "5fc63880-e164-49b4-a76c-a6fcbdf3e698",
   "metadata": {},
   "outputs": [],
   "source": [
    "import sympy as sym"
   ]
  },
  {
   "cell_type": "code",
   "execution_count": 2,
   "id": "a076369e-398e-4267-aa69-004bacf86182",
   "metadata": {},
   "outputs": [],
   "source": [
    "x=sym.Symbol('x')\n",
    "h=sym.Symbol('h')"
   ]
  },
  {
   "cell_type": "code",
   "execution_count": null,
   "id": "2e9a2b2d-1d20-4d60-9fda-776be8d1522c",
   "metadata": {},
   "outputs": [],
   "source": [
    "F1=(x-)"
   ]
  }
 ],
 "metadata": {
  "kernelspec": {
   "display_name": "Python 3 (ipykernel)",
   "language": "python",
   "name": "python3"
  },
  "language_info": {
   "codemirror_mode": {
    "name": "ipython",
    "version": 3
   },
   "file_extension": ".py",
   "mimetype": "text/x-python",
   "name": "python",
   "nbconvert_exporter": "python",
   "pygments_lexer": "ipython3",
   "version": "3.10.6"
  }
 },
 "nbformat": 4,
 "nbformat_minor": 5
}
