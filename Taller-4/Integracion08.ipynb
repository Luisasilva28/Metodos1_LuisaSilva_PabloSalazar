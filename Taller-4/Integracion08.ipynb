{
 "cells": [
  {
   "cell_type": "code",
   "execution_count": 1,
   "id": "5fc63880-e164-49b4-a76c-a6fcbdf3e698",
   "metadata": {},
   "outputs": [],
   "source": [
    "import sympy as sym"
   ]
  },
  {
   "cell_type": "code",
   "execution_count": 16,
   "id": "a076369e-398e-4267-aa69-004bacf86182",
   "metadata": {},
   "outputs": [],
   "source": [
    "x=sym.Symbol('x')\n",
    "h=sym.Symbol('h')"
   ]
  },
  {
   "cell_type": "code",
   "execution_count": 24,
   "id": "6da94a58-dca2-4026-9d18-2934124b407f",
   "metadata": {},
   "outputs": [],
   "source": [
    "hi = [0,h,2*h,3*h]\n",
    "h2=hi.copy()\n",
    "for num in hi:\n",
    "    h2.append(num)\n",
    "L=[]\n",
    "numerador=((x-h2[i+1])*(x-h2[i+2])*(x-h2[i+3]))\n",
    "denominador=((h2[i]-h2[i+1])*(h2[i]-h2[i+2])*(h2[i]-h2[i+3]))\n",
    "L.append(numerador/denominador)\n",
    "\n",
    "for i in range(1,len(hi)):\n",
    "    numerador=((x - h2[i-1])*(x - h2[i+1])*(x - h2[i+2]))\n",
    "    denominador=((h2[i]-h2[i-1])*(h2[i]-h2[i+1])*(h2[i]-h2[i+2]))\n",
    "    L.append(numerador/denominador)\n",
    "    "
   ]
  },
  {
   "cell_type": "code",
   "execution_count": 31,
   "id": "2e9a2b2d-1d20-4d60-9fda-776be8d1522c",
   "metadata": {},
   "outputs": [
    {
     "data": {
      "text/latex": [
       "$\\displaystyle \\frac{x \\left(- 3 h + x\\right) \\left(- 2 h + x\\right)}{2 h^{2}} - \\frac{x \\left(- 3 h + x\\right) \\left(- h + x\\right)}{h^{2}} + \\frac{x \\left(- 2 h + x\\right) \\left(- h + x\\right)}{2 h^{2}}$"
      ],
      "text/plain": [
       "x*(-3*h + x)*(-2*h + x)/(2*h**2) - x*(-3*h + x)*(-h + x)/h**2 + x*(-2*h + x)*(-h + x)/(2*h**2)"
      ]
     },
     "execution_count": 31,
     "metadata": {},
     "output_type": "execute_result"
    }
   ],
   "source": [
    "polynomial=0\n",
    "for i in range(len(hi)):\n",
    "  polynomial+=L[i]*hi[i]\n",
    "polynomial"
   ]
  }
 ],
 "metadata": {
  "kernelspec": {
   "display_name": "Python 3 (ipykernel)",
   "language": "python",
   "name": "python3"
  },
  "language_info": {
   "codemirror_mode": {
    "name": "ipython",
    "version": 3
   },
   "file_extension": ".py",
   "mimetype": "text/x-python",
   "name": "python",
   "nbconvert_exporter": "python",
   "pygments_lexer": "ipython3",
   "version": "3.10.6"
  }
 },
 "nbformat": 4,
 "nbformat_minor": 5
}
