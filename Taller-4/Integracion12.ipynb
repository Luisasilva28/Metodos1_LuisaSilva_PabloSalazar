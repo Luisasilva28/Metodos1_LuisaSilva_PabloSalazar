{
 "cells": [
  {
   "cell_type": "code",
   "execution_count": 126,
   "id": "27ef5f6f-3aa6-4f4d-9eb2-6dc98ffd9cff",
   "metadata": {},
   "outputs": [],
   "source": [
    "import numpy as np\n",
    "import matplotlib.pyplot as plt\n",
    "import sympy as sym"
   ]
  },
  {
   "cell_type": "code",
   "execution_count": 127,
   "id": "adc32d7c-0013-4e8a-875f-61cea870ceb3",
   "metadata": {},
   "outputs": [],
   "source": [
    "def GetNewtonMethod(f,df,xn,itmax = 100000, precision=1e-12):\n",
    "    \n",
    "    error = 1.\n",
    "    it = 0\n",
    "    \n",
    "    while error > precision and it < itmax:\n",
    "        \n",
    "        try:\n",
    "            xn1 = xn - f(xn)/df(xn)\n",
    "\n",
    "            error = np.abs(f(xn)/df(xn))\n",
    "        \n",
    "        except ZeroDivisionError:\n",
    "            print(\"zero division\")\n",
    "            \n",
    "        xn  = xn1\n",
    "        it += 1\n",
    "    \n",
    "    if it == itmax:\n",
    "        return False\n",
    "    else:\n",
    "        return xn"
   ]
  },
  {
   "cell_type": "code",
   "execution_count": 128,
   "id": "2086ea8c-a5ef-41ea-b981-645231af421d",
   "metadata": {},
   "outputs": [],
   "source": [
    "def GetAllRoots(f,df,x, tolerancia=9):\n",
    "    \n",
    "    Roots = np.array([])\n",
    "    \n",
    "    for i in x:\n",
    "        \n",
    "        root = GetNewtonMethod(f,df,i)\n",
    "          \n",
    "        if root != False:\n",
    "            \n",
    "            croot = np.round( root, tolerancia ) \n",
    "            \n",
    "            if croot not in Roots:\n",
    "                Roots = np.append( Roots, croot )\n",
    "    Roots.sort()\n",
    "    \n",
    "    return Roots"
   ]
  },
  {
   "cell_type": "code",
   "execution_count": 129,
   "id": "7e303493-c14f-44cb-91e5-260c6e9841ed",
   "metadata": {},
   "outputs": [],
   "source": [
    "def GetLegendre(n):\n",
    "    \n",
    "    x = sym.Symbol('x',Real=True)\n",
    "    y = sym.Symbol('y',Real=True)\n",
    "    \n",
    "    y = (x**2 - 1)**n\n",
    "    \n",
    "    p = sym.diff(y,x,n)/(2**n * np.math.factorial(n))\n",
    "    \n",
    "    return p"
   ]
  },
  {
   "cell_type": "code",
   "execution_count": 130,
   "id": "7a743156-8843-4e83-a0e4-98d82a546733",
   "metadata": {},
   "outputs": [],
   "source": [
    "Legendre = []\n",
    "DerLegendre = []\n",
    "\n",
    "x = sym.Symbol('x',Real=True)\n",
    "n=20\n",
    "\n",
    "for i in range(n+1):\n",
    "    \n",
    "    poly = GetLegendre(i)\n",
    "    \n",
    "    Legendre.append(poly)\n",
    "    DerLegendre.append(sym.diff(poly,x,1))"
   ]
  },
  {
   "cell_type": "code",
   "execution_count": 131,
   "id": "c49fda7a-9305-42f6-88b0-219acb4a4555",
   "metadata": {},
   "outputs": [],
   "source": [
    "def GetRootsPolynomial(n,xi,poly,dpoly):\n",
    "    \n",
    "    x = sym.Symbol('x',Real=True)\n",
    "    \n",
    "    pn = sym.lambdify([x],poly[n],'numpy')\n",
    "    dpn = sym.lambdify([x],dpoly[n],'numpy')\n",
    "    Roots = GetAllRoots(pn,dpn,xi,tolerancia=8)\n",
    "    \n",
    "    return Roots"
   ]
  },
  {
   "cell_type": "code",
   "execution_count": 200,
   "id": "78f0078a-ec5d-4d30-93d2-bb777d24721a",
   "metadata": {},
   "outputs": [],
   "source": [
    "xi = np.linspace(-1,1,100)\n",
    "n = 2\n",
    "Roots = GetRootsPolynomial(n,xi,Legendre,DerLegendre)"
   ]
  },
  {
   "cell_type": "code",
   "execution_count": 201,
   "id": "2059ef6e-292c-4ef9-a481-8ca0d9dd1563",
   "metadata": {},
   "outputs": [],
   "source": [
    "def GetWeights(Roots,Dpoly):\n",
    "    \n",
    "    Weights = []\n",
    "    x = sym.Symbol('x',Real=True)\n",
    "    dpn = sym.lambdify([x],Dpoly[n],'numpy')\n",
    "    \n",
    "    for r in Roots:\n",
    "        \n",
    "        Weights.append( 2/(( 1- r**2 )*dpn(r)**2) )\n",
    "        \n",
    "    return Weights"
   ]
  },
  {
   "cell_type": "code",
   "execution_count": 202,
   "id": "51f44216-4410-4828-98e2-91369aefa91a",
   "metadata": {},
   "outputs": [],
   "source": [
    "Weights = GetWeights(Roots,DerLegendre)"
   ]
  },
  {
   "cell_type": "code",
   "execution_count": 203,
   "id": "b869e452-63c5-4a48-a5a9-826ea5599c49",
   "metadata": {},
   "outputs": [],
   "source": [
    "a = 1\n",
    "b = 2\n",
    "f = lambda x : x**-2\n",
    "t = 0.5*((b-a)*Roots + a + b)"
   ]
  },
  {
   "cell_type": "code",
   "execution_count": 204,
   "id": "479108cd-9c08-407d-a8b9-247a396d443e",
   "metadata": {},
   "outputs": [
    {
     "name": "stdout",
     "output_type": "stream",
     "text": [
      "El valor de la integral con 2 puntos es de: 0.497041\n"
     ]
    }
   ],
   "source": [
    "Integral2 = 0.5*(b-a)*np.sum( Weights*f(t) )\n",
    "print('El valor de la integral con 2 puntos es de: %.6f'%Integral2)"
   ]
  },
  {
   "cell_type": "code",
   "execution_count": 211,
   "id": "eb73a779-96ab-4625-9554-2eb62f41b017",
   "metadata": {},
   "outputs": [],
   "source": [
    "n = 4\n",
    "Roots = GetRootsPolynomial(n,xi,Legendre,DerLegendre)\n",
    "Weights = GetWeights(Roots,DerLegendre)\n",
    "t = 0.5*((b-a)*Roots + a + b)"
   ]
  },
  {
   "cell_type": "code",
   "execution_count": 210,
   "id": "31ba6af8-5b1f-43af-a628-7b113a8eaa66",
   "metadata": {},
   "outputs": [
    {
     "data": {
      "text/plain": [
       "0.30234315871941525"
      ]
     },
     "execution_count": 210,
     "metadata": {},
     "output_type": "execute_result"
    }
   ],
   "source": [
    "Integral3 = 0.5*(b-a)*np.sum( Weights*f(t) )\n",
    "Integral3"
   ]
  },
  {
   "cell_type": "code",
   "execution_count": null,
   "id": "1cd96a79-512a-4e32-b2f8-01a57152a005",
   "metadata": {},
   "outputs": [],
   "source": []
  }
 ],
 "metadata": {
  "kernelspec": {
   "display_name": "Python 3 (ipykernel)",
   "language": "python",
   "name": "python3"
  },
  "language_info": {
   "codemirror_mode": {
    "name": "ipython",
    "version": 3
   },
   "file_extension": ".py",
   "mimetype": "text/x-python",
   "name": "python",
   "nbconvert_exporter": "python",
   "pygments_lexer": "ipython3",
   "version": "3.10.6"
  }
 },
 "nbformat": 4,
 "nbformat_minor": 5
}
