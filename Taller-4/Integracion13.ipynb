{
 "cells": [
  {
   "cell_type": "code",
   "execution_count": 5,
   "id": "baad3adc-1915-4d32-98bd-df04a1135b7d",
   "metadata": {},
   "outputs": [],
   "source": [
    "import numpy as np\n",
    "from scipy import integrate"
   ]
  },
  {
   "cell_type": "code",
   "execution_count": 6,
   "id": "62ca775c-2343-4ead-b9a2-a04b9b2ea1a1",
   "metadata": {},
   "outputs": [],
   "source": [
    "class Integrator:\n",
    "    \n",
    "    def __init__(self, x,y):\n",
    "        \n",
    "        self.x = x\n",
    "        self.y = y\n",
    "        self.h = self.x[1] - self.x[0]\n",
    "        \n",
    "        self.integral = 0.\n",
    "        self.suma=0.\n",
    "    \n",
    "    def Simpson38_simple(self,f,a,b):\n",
    "        p1=(2*a+b)/3\n",
    "        p2=(a+2*b)/3\n",
    "        self.integral=(b-a)/8 * (f(a)+3*f(p1)+3*f(p2)+f(b))\n",
    "        return self.integral\n",
    "    \n",
    "    def Simpson38(self,x,f,n):\n",
    "         a=x[0]\n",
    "         b=x[-1]\n",
    "         self.suma=0.\n",
    "         h=(b-a)/n\n",
    "         for i in range(n):\n",
    "             b=a+h\n",
    "             area=int1.Simpson38_simple(f,a,b)\n",
    "             self.suma=self.suma+area\n",
    "             a=b\n",
    "         return self.suma"
   ]
  },
  {
   "cell_type": "code",
   "execution_count": 8,
   "id": "5657f76d-8d15-4ea6-903d-4a449da23be5",
   "metadata": {},
   "outputs": [
    {
     "name": "stdout",
     "output_type": "stream",
     "text": [
      "El valor de la integral entre -1 y 1 es de 2.6388733386\n"
     ]
    }
   ],
   "source": [
    "x=np.linspace(-1,1)\n",
    "f=lambda x: np.sqrt(1+np.exp(-x**2))\n",
    "y=f(x)  \n",
    "int1 = Integrator(x,y)\n",
    "integral=(int1.Simpson38(x,f,4))\n",
    "print('El valor de la integral entre -1 y 1 es de %.10f'%integral)"
   ]
  },
  {
   "cell_type": "code",
   "execution_count": 9,
   "id": "072d4f30-f9ed-4d8f-92fb-bb4d460abf41",
   "metadata": {},
   "outputs": [
    {
     "name": "stdout",
     "output_type": "stream",
     "text": [
      "El error respecto al valor real es de: 1.4989565883194444e-05\n"
     ]
    }
   ],
   "source": [
    "real=integrate.simpson(y,x)\n",
    "error=np.abs(integral-real)\n",
    "print('El error respecto al valor real es de:',error)"
   ]
  }
 ],
 "metadata": {
  "kernelspec": {
   "display_name": "Python 3 (ipykernel)",
   "language": "python",
   "name": "python3"
  },
  "language_info": {
   "codemirror_mode": {
    "name": "ipython",
    "version": 3
   },
   "file_extension": ".py",
   "mimetype": "text/x-python",
   "name": "python",
   "nbconvert_exporter": "python",
   "pygments_lexer": "ipython3",
   "version": "3.10.6"
  }
 },
 "nbformat": 4,
 "nbformat_minor": 5
}
