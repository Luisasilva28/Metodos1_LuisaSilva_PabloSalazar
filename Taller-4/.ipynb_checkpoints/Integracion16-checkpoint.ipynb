{
 "cells": [
  {
   "cell_type": "code",
   "execution_count": 1,
   "id": "35f96952-38ec-4c21-ab46-667f276d5935",
   "metadata": {},
   "outputs": [],
   "source": [
    "import numpy as np\n",
    "import matplotlib.pyplot as plt\n",
    "import sympy as sym"
   ]
  },
  {
   "cell_type": "code",
   "execution_count": 2,
   "id": "db42754b-8801-48ad-89af-08876f4a6b0e",
   "metadata": {},
   "outputs": [],
   "source": [
    "def GetNewtonMethod(f,df,xn,itmax = 100000, precision=1e-5):\n",
    "    \n",
    "    error = 1.\n",
    "    it = 0\n",
    "    \n",
    "    while error > precision and it < itmax:\n",
    "        \n",
    "        try:\n",
    "            xn1 = xn - f(xn)/df(xn)\n",
    "\n",
    "            error = np.abs(f(xn)/df(xn))\n",
    "        \n",
    "        except ZeroDivisionError:\n",
    "            print(\"zero division\")\n",
    "            \n",
    "        xn  = xn1\n",
    "        it += 1\n",
    "    \n",
    "    if it == itmax:\n",
    "        return False\n",
    "    else:\n",
    "        return xn"
   ]
  },
  {
   "cell_type": "code",
   "execution_count": 3,
   "id": "0e2f4f9b-68f7-4e69-b1e3-e147d963cca2",
   "metadata": {},
   "outputs": [],
   "source": [
    "def GetAllRoots(f,df,x, tolerancia=9):\n",
    "    \n",
    "    Roots = np.array([])\n",
    "    \n",
    "    for i in x:\n",
    "        \n",
    "        root = GetNewtonMethod(f,df,i)\n",
    "          \n",
    "        if root != False:\n",
    "            \n",
    "            croot = np.round( root, tolerancia ) \n",
    "            \n",
    "            if croot not in Roots:\n",
    "                Roots = np.append( Roots, croot )\n",
    "    Roots.sort()\n",
    "    \n",
    "    return Roots"
   ]
  },
  {
   "cell_type": "code",
   "execution_count": 4,
   "id": "c7262d6a-824f-489f-bd11-822018c64d08",
   "metadata": {},
   "outputs": [],
   "source": [
    "def GetLaguerre(n):\n",
    "    \n",
    "    x = sym.Symbol('x',Real=True)\n",
    "    y = sym.Symbol('y',Real=True)\n",
    "    \n",
    "    y = sym.exp(-x)*x**n\n",
    "    \n",
    "    p = sym.exp(x)*sym.diff(y,x,n)/(np.math.factorial(n))\n",
    "    \n",
    "    return p"
   ]
  },
  {
   "cell_type": "code",
   "execution_count": 5,
   "id": "71cef2c9-2900-4f54-aa54-e5a9e8c6375b",
   "metadata": {},
   "outputs": [],
   "source": [
    "Laguerre = []\n",
    "DerLaguerre= []\n",
    "\n",
    "x = sym.Symbol('x',Real=True)\n",
    "n=20\n",
    "\n",
    "for i in range(n+1):\n",
    "    \n",
    "    poly = GetLaguerre(i)\n",
    "    \n",
    "    Laguerre.append(poly)\n",
    "    DerLaguerre.append(sym.diff(poly,x,1))"
   ]
  },
  {
   "cell_type": "code",
   "execution_count": 6,
   "id": "92ba2e23-d7ad-437a-967b-9b5e1e5d4dd1",
   "metadata": {},
   "outputs": [],
   "source": [
    "def GetRootsPolynomial(n,xi,poly,dpoly):\n",
    "    \n",
    "    x = sym.Symbol('x',Real=True)\n",
    "    \n",
    "    pn = sym.lambdify([x],poly[n],'numpy')\n",
    "    dpn = sym.lambdify([x],dpoly[n],'numpy')\n",
    "    Roots = GetAllRoots(pn,dpn,xi,tolerancia=8)\n",
    "    \n",
    "    return Roots"
   ]
  },
  {
   "cell_type": "code",
   "execution_count": 7,
   "id": "ce834120-4426-4fde-b05f-05785a0553cf",
   "metadata": {},
   "outputs": [
    {
     "data": {
      "text/plain": [
       "array([0.41577456, 2.29428036, 6.28994508])"
      ]
     },
     "execution_count": 7,
     "metadata": {},
     "output_type": "execute_result"
    }
   ],
   "source": [
    "xi = np.linspace(0,100,200)\n",
    "n = 3\n",
    "Roots = GetRootsPolynomial(n,xi,Laguerre,DerLaguerre)\n",
    "Roots"
   ]
  },
  {
   "cell_type": "code",
   "execution_count": 8,
   "id": "e75197da-8a6d-459a-88f0-467c41ff1f98",
   "metadata": {},
   "outputs": [],
   "source": [
    "def GetWeights(Roots,Laguerre):\n",
    "    \n",
    "    Weights = []\n",
    "    x = sym.Symbol('x',Real=True)\n",
    "    poly = sym.lambdify([x],Laguerre[n+1],'numpy')\n",
    "    \n",
    "    for r in Roots:\n",
    "        Weights.append(r/((n+1)**2 * poly(r)**2))\n",
    "    return Weights"
   ]
  },
  {
   "cell_type": "code",
   "execution_count": 9,
   "id": "fed4892c-8309-4e9b-a465-e43974e3d81e",
   "metadata": {},
   "outputs": [
    {
     "data": {
      "text/plain": [
       "[0.7110929714210014, 0.2785177338063639, 0.010389256535549476]"
      ]
     },
     "execution_count": 9,
     "metadata": {},
     "output_type": "execute_result"
    }
   ],
   "source": [
    "Weights = GetWeights(Roots,Laguerre)\n",
    "Weights"
   ]
  },
  {
   "cell_type": "code",
   "execution_count": 10,
   "id": "44bfbf98-4270-4371-bc4b-8527c35d1914",
   "metadata": {},
   "outputs": [
    {
     "data": {
      "text/plain": [
       "(6.481130172742926, 6.493939402266828)"
      ]
     },
     "execution_count": 10,
     "metadata": {},
     "output_type": "execute_result"
    }
   ],
   "source": [
    "a = -1\n",
    "b = 1\n",
    "f = lambda x : (x**3 * np.exp(x))/((np.exp(x))-1)\n",
    "t = 0.5*((b-a)*Roots + a + b)\n",
    "\n",
    "Integral = np.sum( Weights*f(t))\n",
    "Integral_real=(np.pi**4)/15\n",
    "Integral,Integral_real"
   ]
  },
  {
   "cell_type": "code",
   "execution_count": 17,
   "id": "34d747b2-dbac-49d9-8862-5bec6468caa0",
   "metadata": {},
   "outputs": [],
   "source": [
    "Accuracy=[]\n",
    "for n in range(2,11):\n",
    "    Roots = GetRootsPolynomial(n,xi,Laguerre,DerLaguerre)\n",
    "    Weights = GetWeights(Roots,Laguerre)\n",
    "    t = 0.5*((b-a)*Roots + a + b)\n",
    "    Integral = np.sum( Weights*f(t))\n",
    "    error=(Integral/Integral_real)\n",
    "    Accuracy.append(error)"
   ]
  },
  {
   "cell_type": "code",
   "execution_count": 21,
   "id": "5b226585-8e26-4db3-95a3-3a2432e01f41",
   "metadata": {},
   "outputs": [
    {
     "data": {
      "text/plain": [
       "<matplotlib.legend.Legend at 0x229525df490>"
      ]
     },
     "execution_count": 21,
     "metadata": {},
     "output_type": "execute_result"
    },
    {
     "data": {
      "image/png": "[encoded data removed]",
      "text/plain": [
       "<Figure size 432x288 with 1 Axes>"
      ]
     },
     "metadata": {
      "needs_background": "light"
     },
     "output_type": "display_data"
    }
   ],
   "source": [
    "x=np.linspace(2,10,9)\n",
    "plt.grid()\n",
    "plt.plot(x,Accuracy,\"o\",label=\"Laguerre cuadrature accuracy\")\n",
    "plt.xlabel('n')\n",
    "plt.ylabel('Accuracy (n)')\n",
    "plt.legend(loc='lower right')"
   ]
  }
 ],
 "metadata": {
  "kernelspec": {
   "display_name": "Python 3 (ipykernel)",
   "language": "python",
   "name": "python3"
  },
  "language_info": {
   "codemirror_mode": {
    "name": "ipython",
    "version": 3
   },
   "file_extension": ".py",
   "mimetype": "text/x-python",
   "name": "python",
   "nbconvert_exporter": "python",
   "pygments_lexer": "ipython3",
   "version": "3.10.6"
  }
 },
 "nbformat": 4,
 "nbformat_minor": 5
}
