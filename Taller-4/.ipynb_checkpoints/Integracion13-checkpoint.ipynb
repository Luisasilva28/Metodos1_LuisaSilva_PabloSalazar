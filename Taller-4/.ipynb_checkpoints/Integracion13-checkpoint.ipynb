{
 "cells": [
  {
   "cell_type": "code",
   "execution_count": 1,
   "id": "7129cf9b-7519-4e50-85af-5f8532420542",
   "metadata": {},
   "outputs": [],
   "source": [
    "import numpy as np\n",
    "import sympy as sym"
   ]
  },
  {
   "cell_type": "code",
   "execution_count": 2,
   "id": "3c93d35b-6e61-448e-8563-3481447d49f3",
   "metadata": {},
   "outputs": [],
   "source": [
    "def GetLegendre(n,x,y):\n",
    "    y = (x**2-1)**n\n",
    "    p = sym.diff(y,x,n)/(2**n * np.math.factorial(n))\n",
    "    return p\n"
   ]
  },
  {
   "cell_type": "code",
   "execution_count": 3,
   "id": "7cbed4aa-f3e5-4774-9599-e9cf0efb54be",
   "metadata": {},
   "outputs": [],
   "source": [
    "#GRADO DE POLINOMIO+1\n",
    "n=3\n",
    "\n",
    "#DEFINIR SIMBOLOS\n",
    "x=sym.Symbol('x')\n",
    "y = sym.Symbol('y')\n",
    "\n",
    "#DEFINIR POLINOMIO\n",
    "polinomio=(x**2 + 5*x + 3)"
   ]
  },
  {
   "cell_type": "code",
   "execution_count": 4,
   "id": "270c5681-1ce7-4783-8ef4-b3f3f38745ae",
   "metadata": {},
   "outputs": [],
   "source": [
    "#EXTRAER COEFICIENTES DEL POLINOMIO\n",
    "coeficientes=[]\n",
    "for i in range(n):\n",
    "    coeficientes.append(polinomio.coeff(x,i))\n",
    "\n",
    "#POLINOMIO EN BASE CANONICA COMO VECTOR b\n",
    "b=sym.Matrix(coeficientes)"
   ]
  },
  {
   "cell_type": "code",
   "execution_count": 5,
   "id": "93b197d9-828a-48a0-9ac9-bb2ac94f3e72",
   "metadata": {},
   "outputs": [],
   "source": [
    "#OBTENER POLINOMIOS DE LEGENDRE\n",
    "Legendre = []\n",
    "for i in range(n+1):\n",
    "    Legendre.append(GetLegendre(i,x,y).expand())\n",
    "\n",
    "#DEFINIR MATRIZ BASE A\n",
    "A=sym.zeros(n,n)\n",
    "for i in range(n):\n",
    "    for j in range(n):\n",
    "        A[j,i]=(Legendre[i].coeff(x,j))   "
   ]
  },
  {
   "cell_type": "code",
   "execution_count": 6,
   "id": "6756dae4-7bfc-4847-a00a-2e7c9692ac31",
   "metadata": {},
   "outputs": [],
   "source": [
    "#BUSCAMOS X DE: AX=b \n",
    "#SI INVERTIMOS A: X= A^-1 * b\n",
    "A=A.inv()\n",
    "X=A*b"
   ]
  },
  {
   "cell_type": "code",
   "execution_count": 7,
   "id": "aa33b7fc-ea9e-41b2-b3ec-713aeb62c803",
   "metadata": {},
   "outputs": [
    {
     "name": "stdout",
     "output_type": "stream",
     "text": [
      "El polinomio en base de Legendre es:\n",
      "p(x)=10/3*p0(x) + 5*p1(x) + 2/3*p2(x) \n"
     ]
    }
   ],
   "source": [
    "#IMPRIMIR RESPUESTA\n",
    "res='p(x)='\n",
    "for i in range(n):\n",
    "    res+=(str(X[i])+'*p'+str(i)+'(x) + ')\n",
    "res=res[:-2]\n",
    "\n",
    "print('El polinomio en base de Legendre es:')\n",
    "print(res)"
   ]
  }
 ],
 "metadata": {
  "kernelspec": {
   "display_name": "Python 3 (ipykernel)",
   "language": "python",
   "name": "python3"
  },
  "language_info": {
   "codemirror_mode": {
    "name": "ipython",
    "version": 3
   },
   "file_extension": ".py",
   "mimetype": "text/x-python",
   "name": "python",
   "nbconvert_exporter": "python",
   "pygments_lexer": "ipython3",
   "version": "3.10.6"
  }
 },
 "nbformat": 4,
 "nbformat_minor": 5
}
