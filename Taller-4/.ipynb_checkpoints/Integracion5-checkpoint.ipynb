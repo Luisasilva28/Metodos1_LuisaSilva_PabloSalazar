{
 "cells": [
  {
   "cell_type": "code",
   "execution_count": 2,
   "id": "43aa5933-c75f-4e41-bdad-fa60740dbe92",
   "metadata": {},
   "outputs": [],
   "source": [
    "import numpy as np\n",
    "import matplotlib.pyplot as plt\n",
    "from scipy import integrate"
   ]
  },
  {
   "cell_type": "code",
   "execution_count": 3,
   "id": "ae41f55a-8f0f-438c-ac57-296c7d190b64",
   "metadata": {},
   "outputs": [],
   "source": [
    "class Integrator:\n",
    "    \n",
    "    def __init__(self, x,y):\n",
    "        \n",
    "        self.x = x\n",
    "        self.y = y\n",
    "        self.h = self.x[1] - self.x[0]\n",
    "        \n",
    "        self.integral = 0.\n",
    "        \n",
    "    def Trapezoid(self):\n",
    "        \n",
    "        self.integral = 0.\n",
    "        \n",
    "        self.integral += 0.5*(self.y[0] + self.y[-1])\n",
    "        \n",
    "        self.integral += np.sum( self.y[1:-1] )\n",
    "        \n",
    "        return self.integral*self.h\n",
    "    \n",
    "    def GetTrapezoidError(self,f):\n",
    "        \n",
    "        d = (f( self.x + self.h ) - 2*f(self.x) + f( self.x - self.h))/self.h**2 \n",
    "        \n",
    "        \n",
    "        max_ = np.max(np.abs(d))\n",
    "        \n",
    "        self.error = (max_* (self.x[-1]-self.x[0])**3 )/(12*(len(self.x)-1)**2)\n",
    "        \n",
    "        return self.error"
   ]
  },
  {
   "cell_type": "code",
   "execution_count": 5,
   "id": "0d59fe1d-c7b0-4be3-9a6b-ea77f7bb1c8b",
   "metadata": {},
   "outputs": [],
   "source": [
    "f = lambda x: np.exp(-x**2)\n",
    "N = 12\n",
    "x = np.linspace(0,1,N+1)\n",
    "y = f(x)"
   ]
  },
  {
   "cell_type": "code",
   "execution_count": 10,
   "id": "550467e9-ed16-40e6-9177-9a2cfbdfd404",
   "metadata": {},
   "outputs": [
    {
     "name": "stdout",
     "output_type": "stream",
     "text": [
      "El resultado de la integral es 0.746398 con un error de 0.001153\n"
     ]
    }
   ],
   "source": [
    "int1 = Integrator(x,y)\n",
    "result=int1.Trapezoid()\n",
    "error=int1.GetTrapezoidError(f)\n",
    "print('El resultado de la integral es %f con un error de %f'%(result,error))"
   ]
  }
 ],
 "metadata": {
  "kernelspec": {
   "display_name": "Python 3 (ipykernel)",
   "language": "python",
   "name": "python3"
  },
  "language_info": {
   "codemirror_mode": {
    "name": "ipython",
    "version": 3
   },
   "file_extension": ".py",
   "mimetype": "text/x-python",
   "name": "python",
   "nbconvert_exporter": "python",
   "pygments_lexer": "ipython3",
   "version": "3.10.6"
  }
 },
 "nbformat": 4,
 "nbformat_minor": 5
}
