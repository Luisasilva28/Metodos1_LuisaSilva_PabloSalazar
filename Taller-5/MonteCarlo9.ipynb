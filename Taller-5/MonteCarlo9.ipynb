{
 "cells": [
  {
   "cell_type": "code",
   "execution_count": 182,
   "id": "26973b7b-a9e4-4967-85e2-ce08e04c7e49",
   "metadata": {},
   "outputs": [],
   "source": [
    "import numpy as np"
   ]
  },
  {
   "cell_type": "code",
   "execution_count": 197,
   "id": "9c6ceb3a-a68d-4550-b007-6893ffc88d9b",
   "metadata": {
    "tags": []
   },
   "outputs": [],
   "source": [
    "def sumatoria():\n",
    "    sumatoria=(np.sum(np.random.uniform(size=8)))\n",
    "    h=sumatoria**2\n",
    "    return h"
   ]
  },
  {
   "cell_type": "code",
   "execution_count": 207,
   "id": "6f7772c3-abad-406f-a608-bfabe51eafdf",
   "metadata": {},
   "outputs": [],
   "source": [
    "def MonteCarlo(N):\n",
    "    integral=0\n",
    "    for i in range(N):\n",
    "        integral+=sumatoria()\n",
    "    return integral*(2**-7)/N"
   ]
  },
  {
   "cell_type": "code",
   "execution_count": 208,
   "id": "b0082934-b745-4c2c-8382-06aa312a138c",
   "metadata": {},
   "outputs": [
    {
     "data": {
      "text/plain": [
       "(0.13027, 0.13020833333333334)"
      ]
     },
     "execution_count": 208,
     "metadata": {},
     "output_type": "execute_result"
    }
   ],
   "source": [
    "N=int(1e5)\n",
    "round(MonteCarlo(N),5),25/192"
   ]
  }
 ],
 "metadata": {
  "kernelspec": {
   "display_name": "Python 3 (ipykernel)",
   "language": "python",
   "name": "python3"
  },
  "language_info": {
   "codemirror_mode": {
    "name": "ipython",
    "version": 3
   },
   "file_extension": ".py",
   "mimetype": "text/x-python",
   "name": "python",
   "nbconvert_exporter": "python",
   "pygments_lexer": "ipython3",
   "version": "3.10.6"
  }
 },
 "nbformat": 4,
 "nbformat_minor": 5
}
