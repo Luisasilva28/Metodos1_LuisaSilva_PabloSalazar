{
 "cells": [
  {
   "cell_type": "code",
   "execution_count": 86,
   "id": "8956fb56-b461-4f76-9c31-0b25ec37e6e8",
   "metadata": {},
   "outputs": [],
   "source": [
    "import numpy as np\n",
    "import matplotlib.pyplot as plt\n",
    "from mpl_toolkits.mplot3d import axes3d"
   ]
  },
  {
   "cell_type": "code",
   "execution_count": 30,
   "id": "3a2a0df0-1c0e-47f4-aff0-a71810cba430",
   "metadata": {},
   "outputs": [],
   "source": [
    "N=int(1e4)\n",
    "k=30\n",
    "x=np.random.uniform(size=N)"
   ]
  },
  {
   "cell_type": "code",
   "execution_count": 63,
   "id": "ca227246-4471-4aa5-a525-a943954dc483",
   "metadata": {},
   "outputs": [
    {
     "data": {
      "text/plain": [
       "array([0.24879121, 0.24923439, 0.24749801, 0.2487876 , 0.25018875,\n",
       "       0.25046527, 0.24883474, 0.24920057, 0.24871083, 0.25028837,\n",
       "       0.24798898, 0.24753084, 0.24852514, 0.2494649 , 0.24826808,\n",
       "       0.24907015, 0.24797549, 0.25020984, 0.25051746, 0.24860637,\n",
       "       0.24862464, 0.24900694, 0.24967923, 0.2491245 , 0.24920511,\n",
       "       0.24853505, 0.24792716, 0.2484101 , 0.24834783, 0.24905242])"
      ]
     },
     "execution_count": 63,
     "metadata": {},
     "output_type": "execute_result"
    }
   ],
   "source": [
    "def hallar_correlacion(x,N,k):\n",
    "    correlacion=np.array([])\n",
    "    for i in range(1,k+1):\n",
    "        suma=0\n",
    "        j=0\n",
    "        while j+i<N:\n",
    "            suma+=x[j]*x[j+i]\n",
    "            j+=1\n",
    "        suma/=N\n",
    "        correlacion=np.append(correlacion,suma)\n",
    "    return correlacion\n",
    "\n",
    "correlacion=hallar_correlacion(x,N,k)\n",
    "correlacion"
   ]
  },
  {
   "cell_type": "code",
   "execution_count": 85,
   "id": "90bc0b67-dd83-4a38-a57f-f114623917dd",
   "metadata": {},
   "outputs": [
    {
     "data": {
      "image/png": "[encoded data removed]",
      "text/plain": [
       "<Figure size 360x360 with 1 Axes>"
      ]
     },
     "metadata": {
      "needs_background": "light"
     },
     "output_type": "display_data"
    }
   ],
   "source": [
    "a=np.linspace(1,30,30)\n",
    "fig=plt.figure(figsize=(5,5))\n",
    "ax=fig.add_subplot(1,1,1)\n",
    "plt.setp(ax, xlabel='k-ésimo vecino',ylabel='C(k)',ylim=(0.2,0.3),title='Generador Numpy')\n",
    "ax.plot(a,correlacion)\n",
    "ax.grid()"
   ]
  }
 ],
 "metadata": {
  "kernelspec": {
   "display_name": "Python 3 (ipykernel)",
   "language": "python",
   "name": "python3"
  },
  "language_info": {
   "codemirror_mode": {
    "name": "ipython",
    "version": 3
   },
   "file_extension": ".py",
   "mimetype": "text/x-python",
   "name": "python",
   "nbconvert_exporter": "python",
   "pygments_lexer": "ipython3",
   "version": "3.10.6"
  }
 },
 "nbformat": 4,
 "nbformat_minor": 5
}
