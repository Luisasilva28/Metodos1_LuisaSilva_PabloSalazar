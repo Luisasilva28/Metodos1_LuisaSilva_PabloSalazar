{
 "cells": [
  {
   "cell_type": "code",
   "execution_count": 1,
   "id": "a1d313ec-a067-47e0-af35-7f14b1a4e8da",
   "metadata": {},
   "outputs": [],
   "source": [
    "import numpy as np\n",
    "import matplotlib.pyplot as plt"
   ]
  },
  {
   "cell_type": "code",
   "execution_count": 33,
   "id": "6d10433a-1c67-44a7-9f2a-df2914ccc1fe",
   "metadata": {},
   "outputs": [],
   "source": [
    "N=int(1e5)\n",
    "R=1\n",
    "\n",
    "x=((np.random.rand(N)**1/3) *2) -1\n",
    "y=((np.random.rand(N)**1/3) *2) -1\n",
    "z=((np.random.rand(N)**1/3) *2) -1"
   ]
  },
  {
   "cell_type": "code",
   "execution_count": 34,
   "id": "5f1f3115-b5fd-4f9a-8594-d1f3f8e97d56",
   "metadata": {},
   "outputs": [],
   "source": [
    "pos=x**2 + y**2 + z**2\n",
    "w=np.where(pos<=R)"
   ]
  },
  {
   "cell_type": "code",
   "execution_count": 38,
   "id": "1fa37c86-ecc5-47c8-894c-0f105cf9f30d",
   "metadata": {},
   "outputs": [
    {
     "data": {
      "text/plain": [
       "(1.37344, 4.1887902047863905)"
      ]
     },
     "execution_count": 38,
     "metadata": {},
     "output_type": "execute_result"
    }
   ],
   "source": [
    "vol=8*len(pos[w])/N\n",
    "vol,4*np.pi/3"
   ]
  },
  {
   "cell_type": "code",
   "execution_count": 39,
   "id": "b5b5d271-e5ab-4ee9-860d-7f42b726794f",
   "metadata": {},
   "outputs": [
    {
     "data": {
      "text/plain": [
       "1.4964455116427686"
      ]
     },
     "execution_count": 39,
     "metadata": {},
     "output_type": "execute_result"
    }
   ],
   "source": [
    "g=pos[w]**1/2\n",
    "func=np.exp(g)\n",
    "np.mean(func)"
   ]
  },
  {
   "cell_type": "code",
   "execution_count": null,
   "id": "f7d3e79c-73d7-460a-a35e-a6c6e0340d19",
   "metadata": {},
   "outputs": [],
   "source": []
  }
 ],
 "metadata": {
  "kernelspec": {
   "display_name": "Python 3 (ipykernel)",
   "language": "python",
   "name": "python3"
  },
  "language_info": {
   "codemirror_mode": {
    "name": "ipython",
    "version": 3
   },
   "file_extension": ".py",
   "mimetype": "text/x-python",
   "name": "python",
   "nbconvert_exporter": "python",
   "pygments_lexer": "ipython3",
   "version": "3.10.6"
  }
 },
 "nbformat": 4,
 "nbformat_minor": 5
}
