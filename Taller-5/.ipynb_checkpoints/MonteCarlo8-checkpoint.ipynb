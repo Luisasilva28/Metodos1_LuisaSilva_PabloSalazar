{
 "cells": [
  {
   "cell_type": "code",
   "execution_count": 2,
   "id": "22b6f0a1-3ae4-43ac-b4bc-3d48d5cad6f2",
   "metadata": {},
   "outputs": [],
   "source": [
    "import numpy as np\n",
    "import math as m\n",
    "import matplotlib.pyplot as plt"
   ]
  },
  {
   "cell_type": "code",
   "execution_count": 3,
   "id": "1be1f299-2930-4abb-817a-6ea6d05c5d4b",
   "metadata": {},
   "outputs": [],
   "source": [
    "def f(xi,a=2,b=4):\n",
    "    numerador=m.factorial(a+b-1)\n",
    "    denominador=m.factorial(a)*m.factorial(b)\n",
    "    \n",
    "    return numerador/denominador * xi**(a-1) * (1-xi)**(b-1)"
   ]
  },
  {
   "cell_type": "code",
   "execution_count": 4,
   "id": "6ae4b357-fee8-48b5-8a23-02b3f492f4a3",
   "metadata": {},
   "outputs": [],
   "source": [
    "N=int(1e4)\n",
    "x=np.linspace(0,1,100)\n",
    "funcion=f(x)\n",
    "maximo=max(funcion)"
   ]
  },
  {
   "cell_type": "code",
   "execution_count": 5,
   "id": "8f101b95-88a2-40b3-b6fb-3109f59c4028",
   "metadata": {
    "tags": []
   },
   "outputs": [],
   "source": [
    "lista=np.array([])\n",
    "for i in range(N):\n",
    "    yi=np.random.uniform(0,maximo)\n",
    "    xi=np.random.uniform()\n",
    "    if (f(xi))>yi:\n",
    "        lista=np.append(lista,xi)\n",
    "        \n",
    "lista=np.sort(lista)"
   ]
  },
  {
   "cell_type": "code",
   "execution_count": 6,
   "id": "dc29ed01-1552-4665-bafb-e21ff297021d",
   "metadata": {},
   "outputs": [
    {
     "data": {
      "image/png": "[encoded data removed]",
      "text/plain": [
       "<Figure size 360x360 with 1 Axes>"
      ]
     },
     "metadata": {
      "needs_background": "light"
     },
     "output_type": "display_data"
    }
   ],
   "source": [
    "fig=plt.figure(figsize=(5,5))\n",
    "ax=fig.add_subplot(1,1,1)\n",
    "plt.setp(ax, xlabel='x',ylabel='f(x;2,4)',xlim=(0,1),ylim=(0,maximo+0.01))\n",
    "ax.plot(lista,f(lista),linewidth=3,color='#354259')\n",
    "plt.fill_between(lista,f(lista), step=\"pre\", color='#C2DED1')\n",
    "ax.grid()"
   ]
  },
  {
   "cell_type": "code",
   "execution_count": 7,
   "id": "e2618e6f-a0b7-4df8-93ef-f550c6a1229a",
   "metadata": {},
   "outputs": [],
   "source": [
    "integral=len(lista)/N * maximo\n",
    "integral_real=0.125\n",
    "\n",
    "diff=np.abs(integral-integral_real)\n",
    "error=diff/integral_real*100"
   ]
  },
  {
   "cell_type": "code",
   "execution_count": 8,
   "id": "3db55b77-55b3-41f8-a0f8-1986bda70750",
   "metadata": {},
   "outputs": [
    {
     "data": {
      "text/plain": [
       "(0.12607935254696714, 0.125)"
      ]
     },
     "execution_count": 8,
     "metadata": {},
     "output_type": "execute_result"
    }
   ],
   "source": [
    "integral,integral_real"
   ]
  },
  {
   "cell_type": "code",
   "execution_count": 9,
   "id": "52d79934-6e0d-411a-a1a2-c4a0bf4b9f76",
   "metadata": {},
   "outputs": [
    {
     "name": "stdout",
     "output_type": "stream",
     "text": [
      "Error absoluto: 0.0011 \n",
      "Error porcentual: 0.86 %\n"
     ]
    }
   ],
   "source": [
    "print('Error absoluto:',round(diff,4),'\\nError porcentual:',round(error,2),'%')"
   ]
  }
 ],
 "metadata": {
  "kernelspec": {
   "display_name": "Python 3 (ipykernel)",
   "language": "python",
   "name": "python3"
  },
  "language_info": {
   "codemirror_mode": {
    "name": "ipython",
    "version": 3
   },
   "file_extension": ".py",
   "mimetype": "text/x-python",
   "name": "python",
   "nbconvert_exporter": "python",
   "pygments_lexer": "ipython3",
   "version": "3.10.6"
  }
 },
 "nbformat": 4,
 "nbformat_minor": 5
}
