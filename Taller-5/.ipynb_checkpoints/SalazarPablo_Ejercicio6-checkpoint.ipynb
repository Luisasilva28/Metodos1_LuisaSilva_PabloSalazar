{
 "cells": [
  {
   "cell_type": "markdown",
   "id": "Ca47pvrzRXMy",
   "metadata": {
    "id": "Ca47pvrzRXMy"
   },
   "source": [
    "## Librerias"
   ]
  },
  {
   "cell_type": "code",
   "execution_count": 1,
   "id": "6f64d18c-e6fe-4328-a15d-9344842eabd1",
   "metadata": {
    "id": "6f64d18c-e6fe-4328-a15d-9344842eabd1"
   },
   "outputs": [],
   "source": [
    "import numpy as np\n",
    "import matplotlib.pyplot as plt"
   ]
  },
  {
   "cell_type": "markdown",
   "id": "7Gv1no-mRcMn",
   "metadata": {
    "id": "7Gv1no-mRcMn"
   },
   "source": [
    "## Problema 1\n",
    "\n",
    "Considere la integral, \n",
    "\n",
    "$$ I = \\int_0^1\\sin^2(\\sqrt{100x})\\,dx$$\n",
    "\n",
    "a) Cree la función `gauss_integrate(n)`, que reciba el grado `n` del polinomio de Gauss-Legendre y retorne la integral de la función pedida con el método de gauss-legendre. Puede usar la función `np.polynomial.legendre.leggauss` , para obtener los pesos y puntos de Legendre."
   ]
  },
  {
   "cell_type": "code",
   "execution_count": 2,
   "id": "Tx8fBk37gXrD",
   "metadata": {
    "id": "Tx8fBk37gXrD"
   },
   "outputs": [],
   "source": [
    "def gauss_integrate(n):\n",
    "    roots,weights=np.polynomial.legendre.leggauss(n)\n",
    "    a = 0\n",
    "    b = 1\n",
    "    f=lambda x: np.sin(np.sqrt(100*x))**2\n",
    "    t = 0.5*((b-a)*roots + a + b)\n",
    "    integral = 0.5*(b-a)*np.sum(weights*f(t))\n",
    "    return integral"
   ]
  },
  {
   "cell_type": "code",
   "execution_count": 3,
   "id": "ni3JHLRDoqBv",
   "metadata": {
    "id": "ni3JHLRDoqBv"
   },
   "outputs": [
    {
     "name": "stdout",
     "output_type": "stream",
     "text": [
      "0.5024843310662972\n",
      "0.6273262731105194\n",
      "0.23603692720508807\n",
      "0.42670930479562463\n",
      "0.4558325323090848\n",
      "0.4558325323090862\n"
     ]
    }
   ],
   "source": [
    "print(gauss_integrate(1))\n",
    "print(gauss_integrate(2))\n",
    "print(gauss_integrate(3))\n",
    "print(gauss_integrate(4))\n",
    "print(gauss_integrate(20))\n",
    "print(gauss_integrate(100))"
   ]
  },
  {
   "cell_type": "markdown",
   "id": "7vK6RFJ1W_p2",
   "metadata": {
    "id": "7vK6RFJ1W_p2"
   },
   "source": [
    "b) Verifique sus resultados obtenidos usando la libreria `scipy.integrate`. Imprima los resultados obtenidos con la libreria."
   ]
  },
  {
   "cell_type": "code",
   "execution_count": 4,
   "id": "sQJZ_280pLqK",
   "metadata": {
    "id": "sQJZ_280pLqK"
   },
   "outputs": [
    {
     "name": "stdout",
     "output_type": "stream",
     "text": [
      "0.5024843310662972\n",
      "0.6273262731105194\n",
      "0.23603692720508793\n",
      "0.42670930479562463\n",
      "0.45583253230908527\n",
      "0.45583253230908455\n"
     ]
    }
   ],
   "source": [
    "from scipy import integrate\n",
    "f=lambda x: np.sin(np.sqrt(100*x))**2\n",
    "print(integrate.fixed_quad(f,0,1,n=1)[0])\n",
    "print(integrate.fixed_quad(f,0,1,n=2)[0])\n",
    "print(integrate.fixed_quad(f,0,1,n=3)[0])\n",
    "print(integrate.fixed_quad(f,0,1,n=4)[0])\n",
    "print(integrate.fixed_quad(f,0,1,n=20)[0])\n",
    "print(integrate.fixed_quad(f,0,1,n=100)[0])"
   ]
  },
  {
   "cell_type": "markdown",
   "id": "-tn9unovTwJ4",
   "metadata": {
    "id": "-tn9unovTwJ4"
   },
   "source": [
    "## Problema 2\n",
    "\n",
    "A partir del método de Montecarlo, calcule el volumen de un cono cuya base tiene radio $1$, y cuya altura es $3$, con 100000 (cien mil puntos de Montecarlo). Guarde el volumen en la variable `volume_cone`, al final incluya el siguiente `print `para la evaluación de su ejercicio. \n",
    "\n",
    "\n",
    "\n",
    "```\n",
    "print(f\"Volume of a cone = {volume_cone}\")\n",
    "```"
   ]
  },
  {
   "cell_type": "markdown",
   "id": "4vh-B44hYQZX",
   "metadata": {
    "id": "4vh-B44hYQZX"
   },
   "source": [
    "  a) Empiece creando 3 listas de 100000 numeros aleatorios con probabilidad uniforme $x$ , $y$ y $z$. ¿Cuales son los límites $x$, $y$ y $z$ del paralepipedo resultante?"
   ]
  },
  {
   "cell_type": "code",
   "execution_count": 5,
   "id": "AoJU2ACpX9Ds",
   "metadata": {
    "id": "AoJU2ACpX9Ds"
   },
   "outputs": [],
   "source": [
    "x=np.random.rand(100000)*2-1\n",
    "y=np.random.rand(100000)*2-1\n",
    "z=np.random.rand(100000)*3\n"
   ]
  },
  {
   "cell_type": "markdown",
   "id": "V26zVI-YZA88",
   "metadata": {
    "id": "V26zVI-YZA88"
   },
   "source": [
    "b) Escriba la función f(x, y) que define el limite del cono, es decir los puntos que están debajo de esa función hacen parte del cono. "
   ]
  },
  {
   "cell_type": "code",
   "execution_count": 6,
   "id": "dgkKsu2YZBMN",
   "metadata": {
    "id": "dgkKsu2YZBMN"
   },
   "outputs": [],
   "source": [
    "def f(x,y):\n",
    "    res=np.sqrt(9*(x**2 + y**2))\n",
    "    return res\n",
    "res=f(x,y)"
   ]
  },
  {
   "cell_type": "markdown",
   "id": "zWzE6ZguZ3z3",
   "metadata": {
    "id": "zWzE6ZguZ3z3"
   },
   "source": [
    "c) A partir del metodo de Monte Carlo, halle el volumen del cono."
   ]
  },
  {
   "cell_type": "code",
   "execution_count": 7,
   "id": "kTN_ZGDMZU_r",
   "metadata": {
    "id": "kTN_ZGDMZU_r"
   },
   "outputs": [
    {
     "data": {
      "text/plain": [
       "3.1422"
      ]
     },
     "execution_count": 7,
     "metadata": {},
     "output_type": "execute_result"
    }
   ],
   "source": [
    "suma=0\n",
    "for i in range(len(res)):\n",
    "    if z[i]>=f(x[i],y[i]):\n",
    "        suma+=1\n",
    "        \n",
    "volume_cone=12*suma/100000\n",
    "volume_cone\n",
    "\n",
    "#print(f\"Volume of a cone = {volume_cone}\")"
   ]
  }
 ],
 "metadata": {
  "colab": {
   "collapsed_sections": [],
   "provenance": []
  },
  "kernelspec": {
   "display_name": "Python 3 (ipykernel)",
   "language": "python",
   "name": "python3"
  },
  "language_info": {
   "codemirror_mode": {
    "name": "ipython",
    "version": 3
   },
   "file_extension": ".py",
   "mimetype": "text/x-python",
   "name": "python",
   "nbconvert_exporter": "python",
   "pygments_lexer": "ipython3",
   "version": "3.10.6"
  }
 },
 "nbformat": 4,
 "nbformat_minor": 5
}
