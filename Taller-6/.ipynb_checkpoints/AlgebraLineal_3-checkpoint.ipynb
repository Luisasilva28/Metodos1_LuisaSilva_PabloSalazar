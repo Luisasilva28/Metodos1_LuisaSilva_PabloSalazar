{
 "cells": [
  {
   "cell_type": "code",
   "execution_count": 1,
   "id": "4dc07a95-2fd2-4b3c-92f2-9aff66f4d034",
   "metadata": {},
   "outputs": [],
   "source": [
    "import numpy as np"
   ]
  },
  {
   "cell_type": "code",
   "execution_count": 113,
   "id": "2f3da48a-c4df-4277-aaad-72f51631b9de",
   "metadata": {},
   "outputs": [],
   "source": [
    "def Product(A,B):\n",
    "    M,N=A.shape\n",
    "    K,L=B.shape\n",
    "    \n",
    "    if N==K:\n",
    "        C=np.zeros((M,L))\n",
    "        for i in range(M):\n",
    "            for j in range(L):\n",
    "                for k in range(N):\n",
    "                    C[i,j]+= A[i,k]*B[k,j]\n",
    "        \n",
    "    elif M==L:\n",
    "        C=np.zeros((K,N))\n",
    "        for i in range(K):\n",
    "            for j in range(N):\n",
    "                for k in range(M):\n",
    "                    C[i,j]+= B[i,k]*A[k,j]\n",
    "\n",
    "    else:\n",
    "        return print('Las matrices no se pueden multiplicar')\n",
    "\n",
    "    return C"
   ]
  },
  {
   "cell_type": "code",
   "execution_count": 114,
   "id": "ae375741-ebad-4f28-98b4-74e1377b43c1",
   "metadata": {},
   "outputs": [],
   "source": [
    "A = np.array([[1.,0.,0.],[5.,1.,0.],[-2.,3.,1.]])\n",
    "B = np.array([[4.,-2.,1.],[0.,3.,7.],[0.,0.,2]])"
   ]
  },
  {
   "cell_type": "code",
   "execution_count": 117,
   "id": "01720a4d-7049-48f2-ac94-31f0fd923a10",
   "metadata": {},
   "outputs": [
    {
     "data": {
      "text/plain": [
       "array([[ 4., -2.,  1.],\n",
       "       [20., -7., 12.],\n",
       "       [-8., 13., 21.]])"
      ]
     },
     "execution_count": 117,
     "metadata": {},
     "output_type": "execute_result"
    }
   ],
   "source": [
    "Product(A,B)"
   ]
  }
 ],
 "metadata": {
  "kernelspec": {
   "display_name": "Python 3 (ipykernel)",
   "language": "python",
   "name": "python3"
  },
  "language_info": {
   "codemirror_mode": {
    "name": "ipython",
    "version": 3
   },
   "file_extension": ".py",
   "mimetype": "text/x-python",
   "name": "python",
   "nbconvert_exporter": "python",
   "pygments_lexer": "ipython3",
   "version": "3.10.6"
  }
 },
 "nbformat": 4,
 "nbformat_minor": 5
}
