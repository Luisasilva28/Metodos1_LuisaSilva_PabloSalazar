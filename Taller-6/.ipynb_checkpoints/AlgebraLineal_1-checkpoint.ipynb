{
 "cells": [
  {
   "cell_type": "code",
   "execution_count": 1,
   "id": "d01d1abb-f79a-44d4-b29d-f380619c45e5",
   "metadata": {},
   "outputs": [],
   "source": [
    "import numpy as np"
   ]
  },
  {
   "cell_type": "code",
   "execution_count": 2,
   "id": "47deea30-fc9d-4ed3-9c7e-74e0e1251930",
   "metadata": {},
   "outputs": [],
   "source": [
    "def GaussSeidel(A,b,itmax=1000,error = 1e-10):\n",
    "        \n",
    "        x = [0,0,0]\n",
    "\n",
    "        it = 0\n",
    "        \n",
    "        residuo= np.linalg.norm( b - np.dot(A,x) )\n",
    "        \n",
    "        while ( residuo > error and it < itmax ):\n",
    "            x[0]= (1 + x[1] + x[2])/3\n",
    "            x[1]= (3 + x[0] - x[2])/3\n",
    "            x[2]= (7 - 2*x[0] -x[1])/4\n",
    "            it+=1\n",
    "            residuo= np.linalg.norm( b - np.dot(A,x) )\n",
    "            \n",
    "        return x,it,residuo"
   ]
  },
  {
   "cell_type": "code",
   "execution_count": 3,
   "id": "292d44a6-4787-4f1f-b3e6-91aeef671c63",
   "metadata": {},
   "outputs": [],
   "source": [
    "A = np.array([[3,-1,-1],[-1.,3.,1.],[2,1,4]])\n",
    "b = np.array([1.,3.,7.])"
   ]
  },
  {
   "cell_type": "code",
   "execution_count": 4,
   "id": "f8f1af9a-cd29-4fac-8674-dd33a5ec6937",
   "metadata": {},
   "outputs": [],
   "source": [
    "Xsol,it,error=GaussSeidel(A,b)"
   ]
  },
  {
   "cell_type": "code",
   "execution_count": 5,
   "id": "170440d7-7e9b-4a98-aa19-0a84cf254ddc",
   "metadata": {},
   "outputs": [
    {
     "data": {
      "text/plain": [
       "[1.0000000000126033, 0.9999999999949587, 0.9999999999949587]"
      ]
     },
     "execution_count": 5,
     "metadata": {},
     "output_type": "execute_result"
    }
   ],
   "source": [
    "Xsol"
   ]
  },
  {
   "cell_type": "code",
   "execution_count": 6,
   "id": "aed78797-00c4-4d3e-85f0-78d2cd960422",
   "metadata": {},
   "outputs": [
    {
     "data": {
      "text/plain": [
       "(18, 5.8029729042420824e-11)"
      ]
     },
     "execution_count": 6,
     "metadata": {},
     "output_type": "execute_result"
    }
   ],
   "source": [
    "it,error"
   ]
  }
 ],
 "metadata": {
  "kernelspec": {
   "display_name": "Python 3 (ipykernel)",
   "language": "python",
   "name": "python3"
  },
  "language_info": {
   "codemirror_mode": {
    "name": "ipython",
    "version": 3
   },
   "file_extension": ".py",
   "mimetype": "text/x-python",
   "name": "python",
   "nbconvert_exporter": "python",
   "pygments_lexer": "ipython3",
   "version": "3.10.6"
  }
 },
 "nbformat": 4,
 "nbformat_minor": 5
}
