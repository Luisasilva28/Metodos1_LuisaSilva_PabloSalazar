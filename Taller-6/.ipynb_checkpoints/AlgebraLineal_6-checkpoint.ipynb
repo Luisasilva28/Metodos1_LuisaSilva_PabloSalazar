{
 "cells": [
  {
   "cell_type": "code",
   "execution_count": 1,
   "id": "0cfcfa51-8471-4b1d-918b-57cf5bfe5899",
   "metadata": {},
   "outputs": [],
   "source": [
    "import numpy as np\n",
    "import matplotlib.pyplot as plt\n",
    "from IPython.display import clear_output\n",
    "import time"
   ]
  },
  {
   "cell_type": "markdown",
   "id": "d9c6996d-61fd-4562-8a4c-e11e67554a20",
   "metadata": {
    "tags": []
   },
   "source": [
    "# Solución Sistemas de Ecuaciones No Lineales"
   ]
  },
  {
   "cell_type": "markdown",
   "id": "4af6ce5b-6db7-461e-a243-f8ad2c14e591",
   "metadata": {},
   "source": [
    "##### Definimos los sistemas de ecuaciones"
   ]
  },
  {
   "cell_type": "code",
   "execution_count": 67,
   "id": "4a103aa0-81da-471d-9b94-443f85d189c5",
   "metadata": {},
   "outputs": [],
   "source": [
    "G=(lambda x,y: np.log(x**2 + y**2)-np.sin(x*y)-np.log(2)-np.log(np.pi), \\\n",
    "   lambda x,y: np.exp(x-y)+np.cos(x*y))\n",
    "\n",
    "H=(lambda x,y,z: 6*x-2*np.cos(y*z)-1, \\\n",
    "   lambda x,y,z: 9*y+np.sqrt(x**2 + np.sin(z) + 1.06) + 0.9, \\\n",
    "   lambda x,y,z: 60*z + 3 *np.exp(x*y*(-1)) + 10*np.pi - 3)"
   ]
  },
  {
   "cell_type": "markdown",
   "id": "66ddff25-dfa3-4463-844d-e9d5b50c3849",
   "metadata": {},
   "source": [
    "## Método descenso del gradiente"
   ]
  },
  {
   "cell_type": "code",
   "execution_count": 46,
   "id": "92bb1b09-7781-44e0-9e70-294e215a487c",
   "metadata": {},
   "outputs": [],
   "source": [
    "def GetVectorF(G,r):\n",
    "    \n",
    "    dim = len(G)\n",
    "    \n",
    "    v = np.zeros(dim)\n",
    "    \n",
    "    if dim==2:\n",
    "        for i in range(dim):\n",
    "            v[i] = G[i](r[0],r[1])\n",
    "    elif dim==3:\n",
    "        for i in range(dim):\n",
    "            v[i] = G[i](r[0],r[1],r[2])\n",
    "    return v"
   ]
  },
  {
   "cell_type": "code",
   "execution_count": 47,
   "id": "90b4b2b9-23c5-48ee-a2ff-ca3642bf5a60",
   "metadata": {},
   "outputs": [],
   "source": [
    "def GetJacobian(G,r,h=1e-6):\n",
    "    \n",
    "    dim = len(G)\n",
    "    \n",
    "    J = np.zeros((dim,dim))\n",
    "    if dim==2:\n",
    "        for i in range(dim):\n",
    "            J[i,0] = (  G[i](r[0]+h,r[1]) - G[i](r[0]-h,r[1]) )/(2*h)\n",
    "            J[i,1] = (  G[i](r[0],r[1]+h) - G[i](r[0],r[1]-h) )/(2*h)\n",
    "    \n",
    "    elif dim==3:\n",
    "        for i in range(dim):\n",
    "            J[i,0] = (  G[i](r[0]+h,r[1],r[2]) - G[i](r[0]-h,r[1],r[2]) )/(2*h)\n",
    "            J[i,1] = (  G[i](r[0],r[1]+h,r[2]) - G[i](r[0],r[1]-h,r[2]) )/(2*h)\n",
    "            J[i,2] = (  G[i](r[0],r[1],r[2]+h) - G[i](r[0],r[1],r[2]-h) )/(2*h)\n",
    "        \n",
    "    return J.T"
   ]
  },
  {
   "cell_type": "code",
   "execution_count": 48,
   "id": "2b6d3e4e-de5f-4d9f-aaec-f75411ccc4d0",
   "metadata": {},
   "outputs": [],
   "source": [
    "def GetMetric(G,r):\n",
    "    v = GetVectorF(G,r)\n",
    "    return 0.5*np.linalg.norm(v)**2"
   ]
  },
  {
   "cell_type": "code",
   "execution_count": 80,
   "id": "c0c3cd87-1d1e-49ae-84d9-066387a89f14",
   "metadata": {},
   "outputs": [],
   "source": [
    "def GetFig2(F,R,it):\n",
    "    \n",
    "    fig = plt.figure(figsize=(8,4))\n",
    "    \n",
    "    labels = ['X','Y']\n",
    "    \n",
    "    ax = fig.add_subplot(1,2,1)\n",
    "    ax1 = fig.add_subplot(1,2,2)\n",
    "\n",
    "    ax.set_title('Metric: %.20f' %(F[it]))\n",
    "\n",
    "    ax.plot(F[:it])\n",
    "    ax.set_xlabel('%.0f' %(it))\n",
    "    ax.set_yscale('log')\n",
    "    ax1.plot(R[:it],label=labels)\n",
    "    ax1.set_xlabel('%.0f' %(it))\n",
    "    ax1.legend(loc=0)\n",
    "    \n",
    "    plt.show()"
   ]
  },
  {
   "cell_type": "code",
   "execution_count": 50,
   "id": "43515225-83e7-4c32-a503-5d162a7e3367",
   "metadata": {},
   "outputs": [],
   "source": [
    "def GetFig3(F,R,it):\n",
    "    \n",
    "    fig = plt.figure(figsize=(8,4))\n",
    "    \n",
    "    labels = ['X','Y','Z']\n",
    "    \n",
    "    ax = fig.add_subplot(1,2,1)\n",
    "    ax1 = fig.add_subplot(1,2,2)\n",
    "\n",
    "    ax.set_title('Metric: %.20f' %(F[it]))\n",
    "\n",
    "    ax.plot(F[:it])\n",
    "    ax.set_xlabel('%.0f' %(it))\n",
    "    ax.set_yscale('log')\n",
    "    ax1.plot(R[:it],label=labels)\n",
    "    ax1.set_xlabel('%.0f' %(it))\n",
    "    ax1.legend(loc=0)\n",
    "    \n",
    "    plt.show()"
   ]
  },
  {
   "cell_type": "code",
   "execution_count": 100,
   "id": "3a65c7d1-fca3-44e8-8426-7676e566c28e",
   "metadata": {},
   "outputs": [],
   "source": [
    "def GetSolve(G,r,lr=1e-5,epochs=int(1e5),error=1e-7):\n",
    "    \n",
    "    d = 1\n",
    "    it = 0\n",
    "    Vector_F = np.array([])\n",
    "    \n",
    "    R_vector = np.array(r)\n",
    "    \n",
    "    while d > error and it < epochs:\n",
    "        \n",
    "        CurrentF = GetMetric(G,r)\n",
    "        \n",
    "        J = GetJacobian(G,r)\n",
    "        \n",
    "        GVector = GetVectorF(G,r)\n",
    "        \n",
    "        #Machine Learning\n",
    "        r -= lr*np.dot(J,GVector) \n",
    "        \n",
    "        R_vector = np.vstack((R_vector,r))\n",
    "        \n",
    "        NewF = GetMetric(G,r)\n",
    "        \n",
    "        \n",
    "        Vector_F = np.append(Vector_F,NewF)\n",
    "        \n",
    "        d = np.abs( CurrentF - NewF )/NewF\n",
    "        \n",
    "        \n",
    "        if it%500 == 0:\n",
    "            \n",
    "            #print(it,d)\n",
    "            clear_output(wait=True)\n",
    "            if len(G)==2:\n",
    "                GetFig2(Vector_F,R_vector,it)\n",
    "                time.sleep(0.01)\n",
    "            elif len(G)==3:\n",
    "                GetFig3(Vector_F,R_vector,it)\n",
    "                time.sleep(0.01)\n",
    "            \n",
    "        it += 1\n",
    "        \n",
    "    if d < error:\n",
    "        print(' Entrenamiento completo en iteraciones', it)\n",
    "        \n",
    "    if it == epochs:\n",
    "        print(' Entrenamiento no completado ')\n",
    "        \n",
    "    return r,it,Vector_F,R_vector"
   ]
  },
  {
   "cell_type": "code",
   "execution_count": 101,
   "id": "616454b1-db92-4793-8bff-5447b9087fe9",
   "metadata": {},
   "outputs": [
    {
     "data": {
      "image/png": "[encoded data removed]",
      "text/plain": [
       "<Figure size 576x288 with 2 Axes>"
      ]
     },
     "metadata": {
      "needs_background": "light"
     },
     "output_type": "display_data"
    },
    {
     "name": "stdout",
     "output_type": "stream",
     "text": [
      " Entrenamiento completo en iteraciones 13218\n"
     ]
    }
   ],
   "source": [
    "xsol,it,F,R = GetSolve(G,[2,2],lr=1e-3)"
   ]
  },
  {
   "cell_type": "code",
   "execution_count": 102,
   "id": "5be47f6e-2bf8-4195-a98b-50c7c8706139",
   "metadata": {},
   "outputs": [
    {
     "name": "stdout",
     "output_type": "stream",
     "text": [
      "La solución del sistema G es:\n",
      " [1.77245385 1.77245385]\n"
     ]
    }
   ],
   "source": [
    "print('La solución del sistema G es:\\n',xsol)"
   ]
  },
  {
   "cell_type": "code",
   "execution_count": null,
   "id": "b57d882a-31fa-491d-9ec9-be679983ef31",
   "metadata": {},
   "outputs": [
    {
     "data": {
      "image/png": "[encoded data removed]",
      "text/plain": [
       "<Figure size 576x288 with 2 Axes>"
      ]
     },
     "metadata": {
      "needs_background": "light"
     },
     "output_type": "display_data"
    }
   ],
   "source": [
    "xsol,it,F,R = GetSolve(H,[0,0,0],lr=1e-5)"
   ]
  },
  {
   "cell_type": "code",
   "execution_count": null,
   "id": "95bd8cbc-0f8b-45d1-9684-0e8e4b348c5c",
   "metadata": {},
   "outputs": [],
   "source": [
    "print('La solución del sistema H es:\\n',xsol)"
   ]
  },
  {
   "cell_type": "markdown",
   "id": "d4a35863-64b1-42e0-9807-993cbae64451",
   "metadata": {},
   "source": [
    "## Método Newton-Raphson"
   ]
  },
  {
   "cell_type": "code",
   "execution_count": 86,
   "id": "ca7721f9-4bfe-4f4b-8607-c9063ff52e00",
   "metadata": {},
   "outputs": [],
   "source": [
    "def NewtonRaphson(G,r,error=1e-10):\n",
    "    \n",
    "    it = 0\n",
    "    d = 1\n",
    "    Vector_d = np.array([])\n",
    "    \n",
    "    while d > error:\n",
    "        \n",
    "        it += 1\n",
    "        \n",
    "        rc = r\n",
    "        \n",
    "        F = GetVectorF(G,r)\n",
    "        J = GetJacobian(G,r)\n",
    "        InvJ = np.linalg.inv(J)\n",
    "        \n",
    "        r = rc - np.dot( InvJ, F )\n",
    "        \n",
    "        diff = r - rc\n",
    "        \n",
    "        d = np.linalg.norm(diff)\n",
    "        \n",
    "        Vector_d = np.append( Vector_d , d )\n",
    "        \n",
    "    return r,it,Vector_d"
   ]
  },
  {
   "cell_type": "code",
   "execution_count": null,
   "id": "24728526-e88c-478a-a15e-2a8af739a2d5",
   "metadata": {},
   "outputs": [],
   "source": [
    "r,it,distancias = NewtonRaphson(G,[2,2])\n",
    "print('Solución del sistema G es:\\n',r,'\\nEncontrada en',it,'iteraciones')"
   ]
  },
  {
   "cell_type": "code",
   "execution_count": null,
   "id": "6510cf86-8d86-47df-8bc6-61ab98f0f368",
   "metadata": {},
   "outputs": [],
   "source": [
    "r,it,distancias = NewtonRaphson(H,[0,0,0])\n",
    "print('Solución del sistema H es:\\n',r,'\\nEncontrada en',it,'iteraciones')"
   ]
  }
 ],
 "metadata": {
  "kernelspec": {
   "display_name": "Python 3 (ipykernel)",
   "language": "python",
   "name": "python3"
  },
  "language_info": {
   "codemirror_mode": {
    "name": "ipython",
    "version": 3
   },
   "file_extension": ".py",
   "mimetype": "text/x-python",
   "name": "python",
   "nbconvert_exporter": "python",
   "pygments_lexer": "ipython3",
   "version": "3.10.6"
  }
 },
 "nbformat": 4,
 "nbformat_minor": 5
}
