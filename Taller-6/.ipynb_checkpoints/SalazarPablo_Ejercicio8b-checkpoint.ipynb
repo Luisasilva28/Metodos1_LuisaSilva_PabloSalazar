{
 "cells": [
  {
   "cell_type": "markdown",
   "id": "Ca47pvrzRXMy",
   "metadata": {
    "id": "Ca47pvrzRXMy"
   },
   "source": [
    "## Librerias"
   ]
  },
  {
   "cell_type": "code",
   "execution_count": 2,
   "id": "6f64d18c-e6fe-4328-a15d-9344842eabd1",
   "metadata": {
    "id": "6f64d18c-e6fe-4328-a15d-9344842eabd1"
   },
   "outputs": [],
   "source": [
    "import numpy as np\n",
    "import matplotlib.pyplot as plt"
   ]
  },
  {
   "cell_type": "markdown",
   "id": "XkEKN8o3Lu0o",
   "metadata": {
    "id": "XkEKN8o3Lu0o"
   },
   "source": [
    "## Problema\n",
    "\n",
    "Para el siguiente problema se puede guiar del siguiente notebook [gradiente descendiente](https://github.com/diegour1/MetodosComputacionales2/blob/main/Notebooks/07_Simple_neural_network.ipynb)\n",
    "\n",
    "Considere el potencial electrico entre dos cargas de la misma magnitud pero de signo opuesto medido en la posición $\\vec{r}$ desde el centro de coordenadas dado por,\n",
    "\n",
    "$$ V(\\vec{r}) = \\frac{q}{4\\pi \\epsilon_0}\\Bigg[\\frac{1}{|\\vec{r}-\\vec{r_+}|}-\\frac{1}{|\\vec{r}-\\vec{r_-}|}\\Bigg], $$\n",
    "\n",
    "donde $\\vec{r_+}$, y $\\vec{r_-}$, son las posiciones de las cargas positivas y negativas respectivamente. En este ejercicio solamente nos vamos a enfocar en las dimensiones $x$ y $y$.\n",
    "\n",
    "Dados los siguientes parametros, \n",
    "\n",
    "$$\\vec{r_+} = (-0.25\\text{ m}, 0), \\quad \\vec{r_-} = (0.25\\text{ m}, 0), \\quad \\frac{q}{4\\pi \\epsilon_0} = 1, $$\n",
    "\n",
    "y que el campo electrico está dado por, \n",
    "\n",
    "$$\\vec{E}(\\vec{r}) = -\\vec{\\nabla} V(\\vec{r}),$$"
   ]
  },
  {
   "cell_type": "markdown",
   "id": "vi77WfbpMLnB",
   "metadata": {
    "id": "vi77WfbpMLnB"
   },
   "source": [
    "a) Escriba la función potencial en términos de $x$ y $y$ e imprima los valores del potencial en el punto $(x, y) = (0, 0)$ y $(x, y) = (0.1, 0)$, $(x, y) = (-0.15, 0.12)$."
   ]
  },
  {
   "cell_type": "code",
   "execution_count": 3,
   "id": "wNVvdgkBLwA5",
   "metadata": {
    "id": "wNVvdgkBLwA5"
   },
   "outputs": [
    {
     "data": {
      "text/plain": [
       "(0.0, -3.8095238095238098, 4.007278283591919)"
      ]
     },
     "execution_count": 3,
     "metadata": {},
     "output_type": "execute_result"
    }
   ],
   "source": [
    "def Potential(x, y):\n",
    "    r1=np.sqrt((x+0.25)**2 + y**2)\n",
    "    r2=np.sqrt((x-0.25)**2 + y**2)\n",
    "    V=1/r1 - 1/r2\n",
    "    return V\n",
    "Potential(0, 0), Potential(0.1, 0), Potential(-0.15, 0.12)"
   ]
  },
  {
   "cell_type": "markdown",
   "id": "Twn0pdu1N7kg",
   "metadata": {
    "id": "Twn0pdu1N7kg"
   },
   "source": [
    "b) Calcule la gradiente del potencial, con la formula de derivada central."
   ]
  },
  {
   "cell_type": "code",
   "execution_count": 17,
   "id": "dwchzjJ-M7JO",
   "metadata": {
    "id": "dwchzjJ-M7JO"
   },
   "outputs": [
    {
     "data": {
      "text/plain": [
       "array([-20,   0])"
      ]
     },
     "execution_count": 17,
     "metadata": {},
     "output_type": "execute_result"
    }
   ],
   "source": [
    "#f=lambda x,y: 1/np.sqrt((x+0.25)**2 + y**2) - 1/r2=np.sqrt((x-0.25)**2 + y**2)\n",
    "def Gradient_xy(f, x, y, h): \n",
    "    grad = np.array([0, 0])\n",
    "    dx=(f(x+h,y)-f(x-h,y))/(2*h)\n",
    "    dy=(f(x,y+h)-f(x,y-h))/(2*h)\n",
    "    grad[0]=dx\n",
    "    grad[1]=dy\n",
    "    return grad\n",
    "Gradient_xy(Potential,0,0.15,0.0001)"
   ]
  },
  {
   "cell_type": "markdown",
   "id": "uKEKtSXYOzLN",
   "metadata": {
    "id": "uKEKtSXYOzLN"
   },
   "source": [
    "c) Empezando en el punto $(x, y) = (0, 0.15)$ implemente el algoritmo de gradiente descendiente. Con pasos 705 pasos de $e = 0.0001$ para el gradiente descendiente y $h = 0.0001$ para la derivada central. Guarde la trayectoria en la variable `trayectory`"
   ]
  },
  {
   "cell_type": "code",
   "execution_count": 35,
   "id": "24EohIcKOg6Z",
   "metadata": {
    "id": "24EohIcKOg6Z"
   },
   "outputs": [
    {
     "data": {
      "text/plain": [
       "array([[0.002 , 0.15  ],\n",
       "       [0.004 , 0.15  ],\n",
       "       [0.006 , 0.15  ],\n",
       "       [0.008 , 0.15  ],\n",
       "       [0.01  , 0.15  ],\n",
       "       [0.012 , 0.1499],\n",
       "       [0.014 , 0.1498],\n",
       "       [0.016 , 0.1497],\n",
       "       [0.018 , 0.1496],\n",
       "       [0.02  , 0.1495],\n",
       "       [0.022 , 0.1493],\n",
       "       [0.024 , 0.1491],\n",
       "       [0.026 , 0.1489],\n",
       "       [0.028 , 0.1487],\n",
       "       [0.03  , 0.1484],\n",
       "       [0.032 , 0.1481],\n",
       "       [0.034 , 0.1478],\n",
       "       [0.036 , 0.1475],\n",
       "       [0.038 , 0.1472],\n",
       "       [0.04  , 0.1468],\n",
       "       [0.042 , 0.1464],\n",
       "       [0.0441, 0.146 ],\n",
       "       [0.0462, 0.1456],\n",
       "       [0.0483, 0.1451],\n",
       "       [0.0504, 0.1446],\n",
       "       [0.0525, 0.1441],\n",
       "       [0.0546, 0.1435],\n",
       "       [0.0567, 0.1429],\n",
       "       [0.0588, 0.1423],\n",
       "       [0.0609, 0.1417],\n",
       "       [0.0631, 0.141 ],\n",
       "       [0.0653, 0.1403],\n",
       "       [0.0675, 0.1396],\n",
       "       [0.0697, 0.1388],\n",
       "       [0.0719, 0.138 ],\n",
       "       [0.0742, 0.1372],\n",
       "       [0.0765, 0.1363],\n",
       "       [0.0788, 0.1354],\n",
       "       [0.0811, 0.1344],\n",
       "       [0.0835, 0.1334],\n",
       "       [0.0859, 0.1324],\n",
       "       [0.0883, 0.1313],\n",
       "       [0.0907, 0.1302],\n",
       "       [0.0932, 0.129 ],\n",
       "       [0.0957, 0.1278],\n",
       "       [0.0983, 0.1265],\n",
       "       [0.1009, 0.1252],\n",
       "       [0.1035, 0.1238],\n",
       "       [0.1062, 0.1223],\n",
       "       [0.109 , 0.1208],\n",
       "       [0.1118, 0.1192],\n",
       "       [0.1147, 0.1175],\n",
       "       [0.1176, 0.1157],\n",
       "       [0.1206, 0.1138],\n",
       "       [0.1237, 0.1118],\n",
       "       [0.1269, 0.1097],\n",
       "       [0.1302, 0.1075],\n",
       "       [0.1336, 0.1051],\n",
       "       [0.1372, 0.1026],\n",
       "       [0.1409, 0.0999],\n",
       "       [0.1448, 0.097 ],\n",
       "       [0.1489, 0.0939],\n",
       "       [0.1533, 0.0905],\n",
       "       [0.158 , 0.0868],\n",
       "       [0.1631, 0.0827],\n",
       "       [0.1686, 0.0781],\n",
       "       [0.1748, 0.0728],\n",
       "       [0.1818, 0.0666],\n",
       "       [0.1901, 0.059 ],\n",
       "       [0.2006, 0.0492],\n",
       "       [0.2156, 0.0348],\n",
       "       [0.2454, 0.0052]])"
      ]
     },
     "execution_count": 35,
     "metadata": {},
     "output_type": "execute_result"
    }
   ],
   "source": [
    "trayectory = np.zeros((72,2))\n",
    "next_pt = [0,0.15]\n",
    "e = 0.0001\n",
    "for n in range(72):\n",
    "    next_pt = next_pt - e * Gradient_xy(Potential,next_pt[0],next_pt[1],0.0001)\n",
    "    trayectory[n]=(next_pt)\n",
    "trayectory"
   ]
  },
  {
   "cell_type": "markdown",
   "id": "mLfPrEKNUo9Q",
   "metadata": {
    "id": "mLfPrEKNUo9Q"
   },
   "source": [
    "d) Gráfique con la misma escala en x y y, las dos cargas y la trayectoria."
   ]
  },
  {
   "cell_type": "code",
   "execution_count": 55,
   "id": "IZUP7xcDQEZl",
   "metadata": {
    "id": "IZUP7xcDQEZl"
   },
   "outputs": [
    {
     "data": {
      "text/plain": [
       "[<matplotlib.lines.Line2D at 0x20ad1c46170>]"
      ]
     },
     "execution_count": 55,
     "metadata": {},
     "output_type": "execute_result"
    },
    {
     "data": {
      "image/png": "[encoded data removed]",
      "text/plain": [
       "<Figure size 432x288 with 1 Axes>"
      ]
     },
     "metadata": {
      "needs_background": "light"
     },
     "output_type": "display_data"
    }
   ],
   "source": [
    "plt.scatter(0,0.15,color='#749F82')\n",
    "plt.scatter(-0.25,0,color='#A8E890')\n",
    "plt.scatter(0.25,0,color='#A8E890')\n",
    "plt.plot(trayectory[:,0],trayectory[:,1],color='#749F82',linestyle='--')"
   ]
  },
  {
   "cell_type": "markdown",
   "id": "1P6GEJVQV1Oc",
   "metadata": {
    "id": "1P6GEJVQV1Oc"
   },
   "source": [
    "e) ¿Qué significa físicamente la trayectoria?\n",
    "\n",
    "\n",
    "Las dos particulas en (+-0.25,0) se encuentran fijas en el espacio. Estas generan un campo eléctrico dirigido a la carga negativa, pues este se dirige radialmente hacia afuera de la positiva y hacia dentro de la negativa.\n",
    "Luego al colocar una carga de prueba en la posición inicial dada, esta sigue la línea de campo eléctrico que se dirige a la carga negativa como muestra el gráfico. Además, esta trayectoria busca el potencial de menor energía, el cual termina en la carga negativa."
   ]
  }
 ],
 "metadata": {
  "colab": {
   "provenance": []
  },
  "kernelspec": {
   "display_name": "Python 3 (ipykernel)",
   "language": "python",
   "name": "python3"
  },
  "language_info": {
   "codemirror_mode": {
    "name": "ipython",
    "version": 3
   },
   "file_extension": ".py",
   "mimetype": "text/x-python",
   "name": "python",
   "nbconvert_exporter": "python",
   "pygments_lexer": "ipython3",
   "version": "3.10.6"
  }
 },
 "nbformat": 4,
 "nbformat_minor": 5
}
