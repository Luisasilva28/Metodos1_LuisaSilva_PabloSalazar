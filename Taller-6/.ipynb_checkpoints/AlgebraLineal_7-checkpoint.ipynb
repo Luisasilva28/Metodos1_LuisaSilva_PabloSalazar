{
 "cells": [
  {
   "cell_type": "code",
   "execution_count": 202,
   "id": "0cfcfa51-8471-4b1d-918b-57cf5bfe5899",
   "metadata": {},
   "outputs": [],
   "source": [
    "import matplotlib.pyplot as plt\n",
    "import numpy as np\n",
    "from tqdm import tqdm"
   ]
  },
  {
   "cell_type": "code",
   "execution_count": 203,
   "id": "ad578368-ed88-487c-ab3f-f4efe8089140",
   "metadata": {},
   "outputs": [],
   "source": [
    "S2=(lambda x1,x2,x3: x1**2 + x2**2 + x3**2 - 1 )"
   ]
  },
  {
   "cell_type": "code",
   "execution_count": 204,
   "id": "104dc6ab-d735-4f71-a320-68e72dba16cb",
   "metadata": {},
   "outputs": [],
   "source": [
    "def GetVectorF(G,r):\n",
    "    dim = 3\n",
    "    v = np.zeros(dim)\n",
    "    for i in range(dim):\n",
    "            v[i] = G(r[0],r[1],r[2])\n",
    "    return v"
   ]
  },
  {
   "cell_type": "code",
   "execution_count": 205,
   "id": "890456de-38d5-4efd-addb-18e0e922bf9c",
   "metadata": {},
   "outputs": [],
   "source": [
    "def GetMetric(G,r):\n",
    "    v = GetVectorF(G,r)\n",
    "    return np.linalg.norm(v)"
   ]
  },
  {
   "cell_type": "code",
   "execution_count": 411,
   "id": "57f0e775-ffff-45f5-9aca-135b554dc1b0",
   "metadata": {},
   "outputs": [],
   "source": [
    "def GetJacobian(G,r,h=1e-6):\n",
    "    \n",
    "    dim = 1\n",
    "    \n",
    "    J = np.zeros((1,3))\n",
    "    J[0,0] = (  G(r[0]+h,r[1],r[2]) - G(r[0]-h,r[1],r[2]) )/(2*h)\n",
    "    J[0,1] = (  G(r[0],r[1]+h,r[2]) - G(r[0],r[1]-h,r[2]) )/(2*h)\n",
    "    J[0,2] = (  G(r[0],r[1],r[2]+h) - G(r[0],r[1],r[2]-h) )/(2*h)\n",
    "    return J.T"
   ]
  },
  {
   "cell_type": "code",
   "execution_count": 412,
   "id": "7f2d23c1-7296-46b7-82a6-51636e3926db",
   "metadata": {},
   "outputs": [],
   "source": [
    "def RandomVector():\n",
    "    r=np.random.uniform(-1,1,3)\n",
    "    \n",
    "    return r\n"
   ]
  },
  {
   "cell_type": "code",
   "execution_count": 413,
   "id": "68cb9487-d7ef-435b-9022-26d5f24f9c11",
   "metadata": {},
   "outputs": [],
   "source": [
    "def GetSolve(G,r,lr=1e-5,epochs=int(1e5),error=1e-5):\n",
    "    \n",
    "    d = 1\n",
    "    it = 0\n",
    "    Vector_F = np.array([])\n",
    "    \n",
    "    while d > error and it < epochs:\n",
    "        \n",
    "        CurrentF = GetMetric(G,r)\n",
    "        \n",
    "        J = GetJacobian(G,r)\n",
    "        \n",
    "        GVector = GetVectorF(G,r)\n",
    "        #Machine Learning\n",
    "        r -= lr*np.dot(GVector,J) \n",
    "        \n",
    "        NewF = GetMetric(G,r)\n",
    "        \n",
    "        Vector_F = np.append(Vector_F,NewF)\n",
    "        \n",
    "        d = np.abs( CurrentF - NewF )/NewF\n",
    "        \n",
    "        it += 1\n",
    "        \n",
    "    if it == epochs:\n",
    "        print(' Entrenamiento no completado ')\n",
    "        \n",
    "    return r,it"
   ]
  },
  {
   "cell_type": "code",
   "execution_count": 423,
   "id": "2b9e6168-25a7-4949-b754-10d57af7d06b",
   "metadata": {},
   "outputs": [],
   "source": [
    "#fig = plt.figure(figsize=(8,8))\n",
    "#ax = fig.add_subplot(1,1,1)\n",
    "#configurar límites de los ejes\n",
    "#ax.set_xlim(-1, 1)\n",
    "#ax.set_ylim(-1, 1)\n",
    "#c1=plt.Circle((0, 0), 1,color='blue',alpha=0.6)\n",
    "#ax.add_patch(c1)\n",
    "\n",
    "\n"
   ]
  },
  {
   "cell_type": "code",
   "execution_count": null,
   "id": "b4a586c6-cdba-4d96-b64d-003c1c525719",
   "metadata": {},
   "outputs": [],
   "source": []
  }
 ],
 "metadata": {
  "kernelspec": {
   "display_name": "Python 3 (ipykernel)",
   "language": "python",
   "name": "python3"
  },
  "language_info": {
   "codemirror_mode": {
    "name": "ipython",
    "version": 3
   },
   "file_extension": ".py",
   "mimetype": "text/x-python",
   "name": "python",
   "nbconvert_exporter": "python",
   "pygments_lexer": "ipython3",
   "version": "3.10.6"
  }
 },
 "nbformat": 4,
 "nbformat_minor": 5
}
