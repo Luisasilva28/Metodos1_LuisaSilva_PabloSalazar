{
 "cells": [
  {
   "cell_type": "code",
   "execution_count": 1,
   "id": "e5366b38-29c4-431e-a663-cabd7ff4053c",
   "metadata": {},
   "outputs": [],
   "source": [
    "import numpy as np"
   ]
  },
  {
   "cell_type": "code",
   "execution_count": 126,
   "id": "e8e2c58e-c24c-4bc4-bd18-8568d5a9f73d",
   "metadata": {},
   "outputs": [],
   "source": [
    "class SolveLinSystem:\n",
    "    def __init__(self,A,b):\n",
    "        self.A = A\n",
    "        self.b = b\n",
    "    \n",
    "    def Jacobi(self,itmax=1000,error = 1e-10):\n",
    "        M,N = self.A.shape\n",
    "    \n",
    "        x = np.zeros(N)\n",
    "\n",
    "        sumk = np.zeros_like(x)\n",
    "    \n",
    "        x = [13,20,-1]\n",
    "        \n",
    "        it = 0\n",
    "    \n",
    "        residuo = np.linalg.norm( b - np.dot(A,x) )\n",
    "    \n",
    "        while ( residuo > error and it < itmax ):\n",
    "        \n",
    "            it += 1\n",
    "        \n",
    "            for i in range(M):\n",
    "                sum_ = 0\n",
    "                for j in range(N):\n",
    "                    if i != j:\n",
    "                        sum_ += A[i][j]*x[j]\n",
    "                sumk[i] = sum_\n",
    "          \n",
    "            for i in range(M):\n",
    "            \n",
    "                if A[i,i] != 0:\n",
    "                    x[i] = (b[i] - sumk[i])/A[i,i]\n",
    "                else:\n",
    "                    print('No invertible con Jacobi')\n",
    "\n",
    "            residuo = np.linalg.norm( b - np.dot(A,x) )\n",
    "        \n",
    "        return x,it,residuo\n",
    "    \n",
    "    def GaussSeidel(self,itmax=1000,error = 1e-10):\n",
    "        \n",
    "        x = [0,0,0]\n",
    "\n",
    "        it = 0\n",
    "        \n",
    "        residuo= np.linalg.norm( b - np.dot(A,x) )\n",
    "        \n",
    "        while ( residuo > error and it < itmax ):\n",
    "            x[0]= (1 + x[1] + x[2])/3\n",
    "            x[1]= (3 + x[0] - x[2])/3\n",
    "            x[2]= (7 - 2*x[0] -x[1])/4\n",
    "            it+=1\n",
    "            residuo= np.linalg.norm( b - np.dot(A,x) )\n",
    "            \n",
    "        return x,it,residuo"
   ]
  },
  {
   "cell_type": "code",
   "execution_count": 127,
   "id": "604fc66e-0d29-4d22-ad11-3dcf35d2d78f",
   "metadata": {},
   "outputs": [],
   "source": [
    "A = np.array([[3,-1,-1],[-1.,3.,1.],[2,1,4]])\n",
    "b = np.array([1.,3.,7.])\n",
    "sol=SolveLinSystem(A,b)"
   ]
  },
  {
   "cell_type": "code",
   "execution_count": 128,
   "id": "dad6b5cb-daa3-4bfd-b95e-70d609a6898e",
   "metadata": {},
   "outputs": [],
   "source": [
    "Xsol,it,error=sol.Jacobi()"
   ]
  },
  {
   "cell_type": "code",
   "execution_count": 129,
   "id": "8751d436-ddc3-4cd7-a6f7-6606be8dd7c0",
   "metadata": {},
   "outputs": [
    {
     "name": "stdout",
     "output_type": "stream",
     "text": [
      "La solución al sistema de ecuaciones hallada con el método de Jacobi es:\n",
      " [1.0000000000012628, 1.0000000000109328, 0.9999999999902489]\n",
      "Encontrado en  26 iteraciones con un error de 3.37e-11\n"
     ]
    }
   ],
   "source": [
    "print('La solución al sistema de ecuaciones hallada con el método de Jacobi es:\\n',Xsol)\n",
    "print('Encontrado en ',it,'iteraciones con un error de {:.2e}'.format(error))"
   ]
  },
  {
   "cell_type": "code",
   "execution_count": 130,
   "id": "50ae1142-d059-42fb-a9c9-b2ad5cfb920f",
   "metadata": {},
   "outputs": [],
   "source": [
    "Xsol,it,error=sol.GaussSeidel()"
   ]
  },
  {
   "cell_type": "code",
   "execution_count": 131,
   "id": "114802ea-32a8-400c-85fc-f481c5f18e91",
   "metadata": {},
   "outputs": [
    {
     "name": "stdout",
     "output_type": "stream",
     "text": [
      "La solución al sistema de ecuaciones hallada con el método de Gauss-Seidel es:\n",
      " [1.0000000000126033, 0.9999999999949587, 0.9999999999949587]\n",
      "Encontrado en  18 iteraciones con un error de 5.80e-11\n"
     ]
    }
   ],
   "source": [
    "print('La solución al sistema de ecuaciones hallada con el método de Gauss-Seidel es:\\n',Xsol)\n",
    "print('Encontrado en ',it,'iteraciones con un error de {:.2e}'.format(error))"
   ]
  }
 ],
 "metadata": {
  "kernelspec": {
   "display_name": "Python 3 (ipykernel)",
   "language": "python",
   "name": "python3"
  },
  "language_info": {
   "codemirror_mode": {
    "name": "ipython",
    "version": 3
   },
   "file_extension": ".py",
   "mimetype": "text/x-python",
   "name": "python",
   "nbconvert_exporter": "python",
   "pygments_lexer": "ipython3",
   "version": "3.10.6"
  }
 },
 "nbformat": 4,
 "nbformat_minor": 5
}
