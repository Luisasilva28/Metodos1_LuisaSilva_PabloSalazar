{
 "cells": [
  {
   "cell_type": "code",
   "execution_count": 2,
   "id": "b6f86df4-0ce7-4580-a03d-9eb0542da203",
   "metadata": {},
   "outputs": [],
   "source": [
    "import numpy as np"
   ]
  },
  {
   "cell_type": "code",
   "execution_count": 4,
   "id": "eb45d097-9bb8-4ac3-87de-7e65c6c34dd5",
   "metadata": {},
   "outputs": [],
   "source": [
    "U=np.array([[3,1,0,1],[1,2,1,1],[-1,0,2,-1]])\n",
    "b = np.array([-3,-3,8,9])\n",
    "A=U.T"
   ]
  },
  {
   "cell_type": "markdown",
   "id": "f937287b-5a1b-4da0-8bb3-250d35505e12",
   "metadata": {},
   "source": [
    "### Mínimos Cuadrados"
   ]
  },
  {
   "cell_type": "code",
   "execution_count": 5,
   "id": "d9bc3333-e0d3-4ecc-8a90-b40c0b914c7c",
   "metadata": {},
   "outputs": [],
   "source": [
    "Ub=np.dot(U,b)\n",
    "UA=np.dot(U,A)"
   ]
  },
  {
   "cell_type": "code",
   "execution_count": 12,
   "id": "78ed4b72-0bb5-4d6c-bd6d-0d4788ad8f32",
   "metadata": {},
   "outputs": [
    {
     "name": "stdout",
     "output_type": "stream",
     "text": [
      "La proyección ortogonal del vector b sobre el subespacio W es:\n",
      "(-2.0,3.0,4.0,0.0)\n"
     ]
    }
   ],
   "source": [
    "res=np.linalg.solve(UA,Ub)\n",
    "w1,w2,w3,w4=np.dot(A,res)\n",
    "w4=np.abs(w4)\n",
    "print('La proyección ortogonal del vector b sobre el subespacio W es:\\n(%.1f,%.1f,%.1f,%.1f)'%(w1,w2,w3,w4))"
   ]
  },
  {
   "cell_type": "markdown",
   "id": "46167f18-5546-462e-b204-77867167b61f",
   "metadata": {},
   "source": [
    "### Grand-Schmidt"
   ]
  },
  {
   "cell_type": "code",
   "execution_count": 23,
   "id": "f80003cb-1a01-4326-9f24-ba0511f3ca52",
   "metadata": {},
   "outputs": [],
   "source": [
    "k,l=U.shape\n",
    "M=np.zeros((k,l))"
   ]
  },
  {
   "cell_type": "code",
   "execution_count": 46,
   "id": "9832174c-816b-49ae-9c80-e9c087cd8965",
   "metadata": {},
   "outputs": [],
   "source": [
    "M[0]=U[0]\n",
    "for i in range(1,k):\n",
    "    M[i]=U[i]\n",
    "    for j in range(i):\n",
    "        M[i]=M[i]-((np.dot(U[i],M[j])/np.dot(M[j],M[j]))*M[j])"
   ]
  },
  {
   "cell_type": "code",
   "execution_count": 48,
   "id": "825023b7-1b07-4f11-a643-5071ed686aae",
   "metadata": {},
   "outputs": [],
   "source": [
    "for i in range(k):\n",
    "    norma = np.sqrt(np.dot(M[i],M[i]))\n",
    "    M[i] /= norma"
   ]
  },
  {
   "cell_type": "code",
   "execution_count": 53,
   "id": "91d98efc-8d5a-490b-8ce4-1c26dd8e15ee",
   "metadata": {},
   "outputs": [
    {
     "name": "stdout",
     "output_type": "stream",
     "text": [
      "La proyección ortogonal del vector b sobre el subespacio W es:\n",
      "(-2.0,3.0,4.0,0.0)\n"
     ]
    }
   ],
   "source": [
    "Mb=np.dot(M,b)\n",
    "MMt=np.dot(M,M.T)\n",
    "res2=np.linalg.solve(MMt,Mb)\n",
    "u1,u2,u3,u4=np.dot(M.T,res2)\n",
    "u4=np.abs(u4)\n",
    "print('La proyección ortogonal del vector b sobre el subespacio W es:\\n(%.1f,%.1f,%.1f,%.1f)'%(u1,u2,u3,u4))"
   ]
  }
 ],
 "metadata": {
  "kernelspec": {
   "display_name": "Python 3 (ipykernel)",
   "language": "python",
   "name": "python3"
  },
  "language_info": {
   "codemirror_mode": {
    "name": "ipython",
    "version": 3
   },
   "file_extension": ".py",
   "mimetype": "text/x-python",
   "name": "python",
   "nbconvert_exporter": "python",
   "pygments_lexer": "ipython3",
   "version": "3.10.6"
  }
 },
 "nbformat": 4,
 "nbformat_minor": 5
}
