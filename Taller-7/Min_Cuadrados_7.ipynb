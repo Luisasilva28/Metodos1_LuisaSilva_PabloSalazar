{
 "cells": [
  {
   "cell_type": "code",
   "execution_count": 23,
   "id": "b6f86df4-0ce7-4580-a03d-9eb0542da203",
   "metadata": {},
   "outputs": [],
   "source": [
    "import numpy as np\n",
    "import matplotlib.pyplot as plt\n",
    "import pandas as pd\n",
    "import urllib\n",
    "from scipy import optimize"
   ]
  },
  {
   "cell_type": "code",
   "execution_count": 24,
   "id": "5c65ad54-9c54-43a4-a97f-6d9724401344",
   "metadata": {},
   "outputs": [],
   "source": [
    "url = 'https://raw.githubusercontent.com/asegura4488/Database/main/MetodosComputacionalesReforma/Sigmoid.csv'\n",
    "data = urllib.request.urlopen(url)\n",
    "a=pd.read_csv(data,sep=',')\n",
    "x=np.array(a['x'])\n",
    "y=np.array(a['y'])\n",
    "h=0.01\n",
    "N=y.size"
   ]
  },
  {
   "cell_type": "code",
   "execution_count": 31,
   "id": "f5b40e49-cca6-4564-891a-e09a20331718",
   "metadata": {},
   "outputs": [],
   "source": [
    "def Ajuste(x,theta):\n",
    "    M=theta[0]/(theta[1]+np.exp(-theta[2]*x))\n",
    "    return M"
   ]
  },
  {
   "cell_type": "code",
   "execution_count": 33,
   "id": "496e9e92-9e78-4a78-b398-c4936a8dea7c",
   "metadata": {},
   "outputs": [],
   "source": [
    "def Costo(x,y,theta,N=50):\n",
    "    costo=0\n",
    "    for i in range(N):\n",
    "        costo+=(y[i] - Ajuste(x[i],theta))**2\n",
    "    return costo"
   ]
  },
  {
   "cell_type": "code",
   "execution_count": 39,
   "id": "63a09139-45a5-45d1-9b1a-2802ee82f729",
   "metadata": {},
   "outputs": [],
   "source": [
    "def Jacobian(x,y,theta):\n",
    "    J=np.zeros(3)\n",
    "    \n",
    "    J[0]=(Costo(x,y,[theta[0]+h,theta[1],theta[2]]) - Costo(x,y,[theta[0]-h,theta[1],theta[2]]))/(2*h)\n",
    "    J[1]=(Costo(x,y,[theta[0],theta[1]+h,theta[2]]) - Costo(x,y,[theta[0],theta[1]-h,theta[2]]))/(2*h)\n",
    "    J[2]=(Costo(x,y,[theta[0],theta[1],theta[2]+h]) - Costo(x,y,[theta[0],theta[1],theta[2]-h]))/(2*h)\n",
    "    \n",
    "    return J"
   ]
  },
  {
   "cell_type": "code",
   "execution_count": 59,
   "id": "610cbe36-3469-413f-8882-9b3cf4ca5cea",
   "metadata": {},
   "outputs": [
    {
     "name": "stdout",
     "output_type": "stream",
     "text": [
      "Entrenamiento no completado\n"
     ]
    }
   ],
   "source": [
    "def GradDesc(theta,lr=1e-3,itmax=1e4,error=1e-2):\n",
    "    it = 0\n",
    "    d = 1\n",
    "    while d > error and it < itmax:\n",
    "        x0 = Jacobian(x,y,theta)\n",
    "        theta = theta - lr*x0\n",
    "        \n",
    "        d = np.linalg.norm(theta)\n",
    "        \n",
    "        it += 1\n",
    "    if it==itmax:\n",
    "        print('Entrenamiento no completado')\n",
    "    \n",
    "    return theta,d,it\n",
    "Tsol,d,it=GradDesc([1,1,1])"
   ]
  },
  {
   "cell_type": "code",
   "execution_count": 61,
   "id": "58f4012a-3e3f-452a-b249-64490facad5e",
   "metadata": {},
   "outputs": [],
   "source": [
    "t1,t2,t3=Tsol\n",
    "chi = Costo(x,y,Tsol)"
   ]
  },
  {
   "cell_type": "code",
   "execution_count": 65,
   "id": "7a6a5cbe-48d6-4e50-a393-24e931185c41",
   "metadata": {},
   "outputs": [
    {
     "name": "stdout",
     "output_type": "stream",
     "text": [
      "El algoritmo encontró como solución los siguientes valores de Theta:\n",
      "4.403\n",
      "0.976\n",
      "2.787\n",
      "\n",
      "Hallado en 10000 iteraciones\n"
     ]
    }
   ],
   "source": [
    "print('El algoritmo encontró como solución los siguientes valores de Theta:\\n%.3f\\n%.3f\\n%.3f'%(t1,t2,t3))\n",
    "print('\\nHallado en %i iteraciones'%it)"
   ]
  },
  {
   "cell_type": "code",
   "execution_count": 63,
   "id": "5abe9ad2-9aac-41a6-9152-b6ac220ebbb0",
   "metadata": {},
   "outputs": [
    {
     "name": "stdout",
     "output_type": "stream",
     "text": [
      "El valor obtenido de chi cuadrado fue:\n",
      "0.105\n"
     ]
    }
   ],
   "source": [
    "print('El valor obtenido de chi cuadrado fue:\\n%.3f'%chi)"
   ]
  },
  {
   "cell_type": "code",
   "execution_count": 67,
   "id": "cc5cbf33-4fa4-40da-ab7c-cfa51df26e6c",
   "metadata": {},
   "outputs": [
    {
     "name": "stdout",
     "output_type": "stream",
     "text": [
      "El error asociado obtenido fue:\n",
      "5.301\n"
     ]
    }
   ],
   "source": [
    "print('El error asociado obtenido fue:\\n%.3f'%d)"
   ]
  },
  {
   "cell_type": "code",
   "execution_count": 55,
   "id": "0f0463e7-5487-448a-ac10-0a156d2b29ca",
   "metadata": {},
   "outputs": [
    {
     "data": {
      "image/png": "[encoded data removed]",
      "text/plain": [
       "<Figure size 1152x288 with 1 Axes>"
      ]
     },
     "metadata": {
      "needs_background": "light"
     },
     "output_type": "display_data"
    }
   ],
   "source": [
    "X = np.linspace(min(x),max(x),500)\n",
    "fig = plt.figure(figsize=(16,4))\n",
    "ax = fig.add_subplot(1,1,1)\n",
    "plt.setp(ax, xlabel='X',ylabel='Y')\n",
    "ax.scatter(x,y,c='#E3C770',label='DATA')\n",
    "ax.plot(X,Ajuste(X,Tsol),c='#A5F1E9',label='BEST FIT MODEL')\n",
    "ax.legend(loc='upper left')\n",
    "plt.show()"
   ]
  },
  {
   "cell_type": "code",
   "execution_count": null,
   "id": "84144037-1da1-4b7e-a049-2b945e69aec5",
   "metadata": {},
   "outputs": [],
   "source": []
  }
 ],
 "metadata": {
  "kernelspec": {
   "display_name": "Python 3 (ipykernel)",
   "language": "python",
   "name": "python3"
  },
  "language_info": {
   "codemirror_mode": {
    "name": "ipython",
    "version": 3
   },
   "file_extension": ".py",
   "mimetype": "text/x-python",
   "name": "python",
   "nbconvert_exporter": "python",
   "pygments_lexer": "ipython3",
   "version": "3.10.6"
  }
 },
 "nbformat": 4,
 "nbformat_minor": 5
}
