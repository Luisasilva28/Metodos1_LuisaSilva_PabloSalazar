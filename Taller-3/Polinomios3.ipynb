{
 "cells": [
  {
   "cell_type": "code",
   "execution_count": 94,
   "id": "a1889f41-39fd-4065-9f2a-b1b051ae915b",
   "metadata": {},
   "outputs": [],
   "source": [
    "import math as m"
   ]
  },
  {
   "cell_type": "code",
   "execution_count": 120,
   "id": "cf5fc5f7-5677-438e-a20c-f3e089f52ee8",
   "metadata": {},
   "outputs": [],
   "source": [
    "#EL POLINOMIO ORIGINAL ES DE GRADO 5\n",
    "#PODEMOS SIMPLIFICAR EL PROBLEMA TOMANDO FACTOR COMUN X**3\n",
    "# x**3 * (3x**2 + 5x -1) = 0\n",
    "#LUEGO 0 ES RAIZ DEL POLINOMIO CON MULTIPLICIDAD 3 \n",
    "#SOLO FALTA HALLAR LAS RAICES DEL POLINOMIO DE GRADO 2 (3x**2 + 5x -1) = 0\n",
    "a=3\n",
    "b=5\n",
    "c=-1\n",
    "def raices(a,b,c):\n",
    "    Roots=[]\n",
    "    d=(b**2) - (4*a*c)\n",
    "    sol1 = (-b-m.sqrt(d))/(2*a)\n",
    "    Roots.append(sol1)\n",
    "    Roots.append(0)\n",
    "    sol2 = (-b+m.sqrt(d))/(2*a)\n",
    "    Roots.append(sol2)\n",
    "    return Roots"
   ]
  },
  {
   "cell_type": "code",
   "execution_count": 118,
   "id": "f8d118a1-bc18-4b05-b965-dc0137623215",
   "metadata": {},
   "outputs": [
    {
     "name": "stdout",
     "output_type": "stream",
     "text": [
      "Las raíces del polinomio son:\n",
      "[-1.8471270883830364, 0, 0.1804604217163699]\n"
     ]
    }
   ],
   "source": [
    "print('Las raíces del polinomio son:')\n",
    "print(raices(a,b,c))"
   ]
  }
 ],
 "metadata": {
  "kernelspec": {
   "display_name": "Python 3 (ipykernel)",
   "language": "python",
   "name": "python3"
  },
  "language_info": {
   "codemirror_mode": {
    "name": "ipython",
    "version": 3
   },
   "file_extension": ".py",
   "mimetype": "text/x-python",
   "name": "python",
   "nbconvert_exporter": "python",
   "pygments_lexer": "ipython3",
   "version": "3.10.6"
  }
 },
 "nbformat": 4,
 "nbformat_minor": 5
}
