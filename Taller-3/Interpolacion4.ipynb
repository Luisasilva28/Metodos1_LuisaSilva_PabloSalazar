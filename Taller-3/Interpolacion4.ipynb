{
 "cells": [
  {
   "cell_type": "code",
   "execution_count": 2,
   "id": "4c3e6692-8aa1-4a97-b40d-685b0bd6b906",
   "metadata": {},
   "outputs": [],
   "source": [
    "import numpy as np\n",
    "import matplotlib.pyplot as plt\n",
    "import pandas as pd\n",
    "import sympy as sym\n",
    "import urllib"
   ]
  },
  {
   "cell_type": "code",
   "execution_count": 3,
   "id": "158c443c-d9a6-4005-86c5-9c8a00c7957a",
   "metadata": {},
   "outputs": [],
   "source": [
    "url = 'https://raw.githubusercontent.com/asegura4488/Database/main/MetodosComputacionalesReforma/Parabolico.csv'\n",
    "data = urllib.request.urlopen(url)"
   ]
  },
  {
   "cell_type": "code",
   "execution_count": 4,
   "id": "3133714f-900b-4f99-80f0-8795dfd8e3c7",
   "metadata": {},
   "outputs": [],
   "source": [
    "Data = pd.read_csv(data,sep=',')\n",
    "X = np.float64(Data['X'])\n",
    "Y = np.float64(Data['Y'])"
   ]
  },
  {
   "cell_type": "code",
   "execution_count": 5,
   "id": "93bdc603-85fd-4ded-8d40-f3ed3f63e607",
   "metadata": {},
   "outputs": [],
   "source": [
    "def Lagrange(x,xi,j):\n",
    "    \n",
    "    prod = 1.0\n",
    "    n = len(xi)\n",
    "    \n",
    "    for i in range(n):\n",
    "        if i != j:\n",
    "            prod *= (x - xi[i])/(xi[j]-xi[i])\n",
    "            \n",
    "    return prod"
   ]
  },
  {
   "cell_type": "code",
   "execution_count": 6,
   "id": "ab7d7333-67cf-479b-8f86-902ba2bd78b6",
   "metadata": {},
   "outputs": [],
   "source": [
    "def Poly(x,xi,yi):\n",
    "    \n",
    "    Sum = 0.\n",
    "    n = len(xi)\n",
    "        \n",
    "    for j in range(n):\n",
    "        Sum += yi[j]*Lagrange(x,xi,j)\n",
    "        \n",
    "    return Sum"
   ]
  },
  {
   "cell_type": "code",
   "execution_count": 7,
   "id": "df74637a-cc81-446d-b428-cd9af74ea22a",
   "metadata": {},
   "outputs": [
    {
     "name": "stdout",
     "output_type": "stream",
     "text": [
      "La velocidad inicial es 10 m/s con ángulo de 21 grados con la horizontal\n"
     ]
    }
   ],
   "source": [
    "x = sym.Symbol('x')\n",
    "polinomio_cuadratico = sym.expand(Poly(x,X,Y))\n",
    "coeficiente_cuadratico=float(polinomio_cuadratico.coeff(x,2))\n",
    "derivada=sym.diff(polinomio_cuadratico)\n",
    "theta=(float(derivada.coeff(x,0)))\n",
    "v0=np.sqrt(np.abs( 9.81 / ( coeficiente_cuadratico*2*(np.cos(theta)**2) ) ))\n",
    "theta=np.degrees(theta)\n",
    "print('La velocidad inicial es %.0f m/s con ángulo de %.0f grados con la horizontal'%(v0,theta))"
   ]
  }
 ],
 "metadata": {
  "kernelspec": {
   "display_name": "Python 3 (ipykernel)",
   "language": "python",
   "name": "python3"
  },
  "language_info": {
   "codemirror_mode": {
    "name": "ipython",
    "version": 3
   },
   "file_extension": ".py",
   "mimetype": "text/x-python",
   "name": "python",
   "nbconvert_exporter": "python",
   "pygments_lexer": "ipython3",
   "version": "3.10.6"
  }
 },
 "nbformat": 4,
 "nbformat_minor": 5
}
