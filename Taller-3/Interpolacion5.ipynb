{
 "cells": [
  {
   "cell_type": "code",
   "execution_count": 1,
   "id": "4c3e6692-8aa1-4a97-b40d-685b0bd6b906",
   "metadata": {},
   "outputs": [],
   "source": [
    "import numpy as np\n",
    "import matplotlib.pyplot as plt\n",
    "import pandas as pd\n",
    "import sympy as sym\n",
    "import urllib"
   ]
  },
  {
   "cell_type": "code",
   "execution_count": 2,
   "id": "158c443c-d9a6-4005-86c5-9c8a00c7957a",
   "metadata": {},
   "outputs": [],
   "source": [
    "url = 'https://raw.githubusercontent.com/asegura4488/Database/main/MetodosComputacionalesReforma/InterpolacionNewtonNoequi.csv'\n",
    "data = urllib.request.urlopen(url)"
   ]
  },
  {
   "cell_type": "code",
   "execution_count": 3,
   "id": "3133714f-900b-4f99-80f0-8795dfd8e3c7",
   "metadata": {},
   "outputs": [],
   "source": [
    "Data = pd.read_csv(data,sep=',')\n",
    "X = np.float64(Data['X'])\n",
    "Y = np.float64(Data['Y'])"
   ]
  },
  {
   "cell_type": "code",
   "execution_count": 15,
   "id": "b7001a24-616c-428a-8621-7efac965b636",
   "metadata": {},
   "outputs": [],
   "source": [
    "Diff = np.zeros((len(X),len(Y)))\n",
    "Diff[:,0] = Y\n",
    "\n",
    "for i in range(1,len(X)):\n",
    "    for j in range(i,len(Y)):\n",
    "        Diff[j,i] = Diff[j,i-1]-Diff[j-1,i-1]"
   ]
  },
  {
   "cell_type": "code",
   "execution_count": 28,
   "id": "c8e3fe45-8da4-40d2-96ea-9070f11a5192",
   "metadata": {},
   "outputs": [],
   "source": [
    "def NewtonGregory(X,Y,x):\n",
    "    \n",
    "    Sum_ = Y[0]\n",
    "    \n",
    "    Diff = np.zeros((len(X),len(Y)))\n",
    "    Diff[:,0] = Y\n",
    "\n",
    "            \n",
    "    poly = 1.0\n",
    "    \n",
    "    for i in range(1,len(X)):\n",
    "        \n",
    "        poly *= ( x - X[i-1] )\n",
    "        \n",
    "        for j in range(i, len(X)):\n",
    "            h = X[j] - X[j-i]\n",
    "            Diff[j,i] = (Diff[j,i-1]-Diff[j-1,i-1])/h      \n",
    "        Sum_ += poly*(Diff[i,i])\n",
    "    \n",
    "    return Sum_"
   ]
  },
  {
   "cell_type": "code",
   "execution_count": 34,
   "id": "11d9a74b-03f7-443e-a797-a89fa90f4b12",
   "metadata": {},
   "outputs": [],
   "source": [
    "x = np.linspace(np.min(X),np.max(X),100)\n",
    "y = NewtonGregory(X,Y,x)"
   ]
  },
  {
   "cell_type": "code",
   "execution_count": 35,
   "id": "f8e0e81a-9f71-43b6-904b-7ef36fcc6002",
   "metadata": {},
   "outputs": [
    {
     "data": {
      "text/plain": [
       "<matplotlib.collections.PathCollection at 0x2645eb43460>"
      ]
     },
     "execution_count": 35,
     "metadata": {},
     "output_type": "execute_result"
    },
    {
     "data": {
      "image/png": "[encoded data removed]",
      "text/plain": [
       "<Figure size 432x288 with 1 Axes>"
      ]
     },
     "metadata": {
      "needs_background": "light"
     },
     "output_type": "display_data"
    }
   ],
   "source": [
    "plt.plot(x,y)\n",
    "plt.scatter(X,Y,color='r')"
   ]
  },
  {
   "cell_type": "code",
   "execution_count": 37,
   "id": "74627a62-a534-4e6a-84dd-83cb6e0251d2",
   "metadata": {},
   "outputs": [
    {
     "name": "stdout",
     "output_type": "stream",
     "text": [
      "El polinomio interpolante de menor grado es: \n",
      "-0.34145435774264*x**5 + 5.84804869821673*x**4 - 35.6998197753506*x**3 + 89.657566164176*x**2 - 68.8369730888011*x - 18.0\n"
     ]
    }
   ],
   "source": [
    "x = sym.Symbol('x')\n",
    "y = NewtonGregory(X,Y,x)\n",
    "y=y.expand()\n",
    "print('El polinomio interpolante de menor grado es: ')\n",
    "print(y)"
   ]
  }
 ],
 "metadata": {
  "kernelspec": {
   "display_name": "Python 3 (ipykernel)",
   "language": "python",
   "name": "python3"
  },
  "language_info": {
   "codemirror_mode": {
    "name": "ipython",
    "version": 3
   },
   "file_extension": ".py",
   "mimetype": "text/x-python",
   "name": "python",
   "nbconvert_exporter": "python",
   "pygments_lexer": "ipython3",
   "version": "3.10.6"
  }
 },
 "nbformat": 4,
 "nbformat_minor": 5
}
