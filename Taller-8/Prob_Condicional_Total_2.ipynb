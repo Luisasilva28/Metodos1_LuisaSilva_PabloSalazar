{
 "cells": [
  {
   "cell_type": "code",
   "execution_count": 1,
   "id": "78960be9-bdaf-485a-8d89-844673675fb7",
   "metadata": {},
   "outputs": [],
   "source": [
    "import numpy as np\n",
    "import matplotlib.pyplot as plt"
   ]
  },
  {
   "cell_type": "code",
   "execution_count": 2,
   "id": "2c56ccf2-a816-4dc6-8d52-a3b72287c59c",
   "metadata": {},
   "outputs": [],
   "source": [
    "Dado=[1,2,3,4,5,6]\n",
    "Urna=[0,1,2] # 0 roja 1 negra 2 verde"
   ]
  },
  {
   "cell_type": "code",
   "execution_count": 3,
   "id": "9a0b6983-31aa-461a-b596-9c7879c85a17",
   "metadata": {},
   "outputs": [],
   "source": [
    "PUrna1=[0.3,0.1,0.6]\n",
    "PUrna2=[0.6,0.2,0.2]    "
   ]
  },
  {
   "cell_type": "code",
   "execution_count": 4,
   "id": "e74b2aee-68ca-4440-bff2-de412bc074d1",
   "metadata": {},
   "outputs": [],
   "source": [
    "N=int(1e5)\n",
    "LRoja = np.zeros(N)\n",
    "LNegra = np.zeros(N)\n",
    "LVerde = np.zeros(N)\n",
    "LUrna = np.zeros(N)\n",
    "\n",
    "for i in range(N):\n",
    "    cara=np.random.choice(Dado)\n",
    "    if cara==1 or cara==2:\n",
    "        bola=np.random.choice(Urna,p=PUrna1)\n",
    "        LUrna[i]=0\n",
    "    else:\n",
    "        bola=np.random.choice(Urna,p=PUrna2)\n",
    "        LUrna[i]=1\n",
    "    \n",
    "    if bola==0:\n",
    "        LRoja[i] = 1\n",
    "        LNegra[i] = 0\n",
    "        LVerde[i] = 0\n",
    "        \n",
    "    elif bola==1:\n",
    "        LRoja[i] = 0\n",
    "        LNegra[i] = 1\n",
    "        LVerde[i] = 0\n",
    "        \n",
    "    else:\n",
    "        LRoja[i] = 0\n",
    "        LNegra[i] = 0\n",
    "        LVerde[i] = 1"
   ]
  },
  {
   "cell_type": "markdown",
   "id": "807e401a-93d7-4c97-9c6e-5a1abb1baed4",
   "metadata": {},
   "source": [
    "### Calcular la probabilidad de que la bola obtenida sea roja"
   ]
  },
  {
   "cell_type": "code",
   "execution_count": 5,
   "id": "58f6def8-1d6f-4dac-a8ed-d17aa1126643",
   "metadata": {},
   "outputs": [
    {
     "data": {
      "image/png": "[encoded data removed]",
      "text/plain": [
       "<Figure size 432x288 with 1 Axes>"
      ]
     },
     "metadata": {
      "needs_background": "light"
     },
     "output_type": "display_data"
    }
   ],
   "source": [
    "a,b,c=plt.hist(LRoja)\n",
    "plt.title('Probabilidad bola roja')\n",
    "plt.show()"
   ]
  },
  {
   "cell_type": "code",
   "execution_count": 6,
   "id": "48527ce9-50f8-4e22-98f3-596eb1b76a4e",
   "metadata": {},
   "outputs": [
    {
     "name": "stdout",
     "output_type": "stream",
     "text": [
      "La probabiliadad de obtener una bola roja es de:\n",
      "0.500\n"
     ]
    }
   ],
   "source": [
    "probR=a[9]/N\n",
    "print('La probabiliadad de obtener una bola roja es de:\\n%.3f'%probR)"
   ]
  },
  {
   "cell_type": "markdown",
   "id": "e1760c20-526b-4c53-a357-330f68e1291a",
   "metadata": {},
   "source": [
    "### Calcular la probabilidad de que la bola obtenida sea negra"
   ]
  },
  {
   "cell_type": "code",
   "execution_count": 7,
   "id": "4648a840-7403-4b9d-83d5-a5aa8884b84e",
   "metadata": {},
   "outputs": [
    {
     "data": {
      "image/png": "[encoded data removed]",
      "text/plain": [
       "<Figure size 432x288 with 1 Axes>"
      ]
     },
     "metadata": {
      "needs_background": "light"
     },
     "output_type": "display_data"
    }
   ],
   "source": [
    "d,e,f=plt.hist(LNegra)\n",
    "plt.title('Probabilidad bola negra')\n",
    "plt.show()"
   ]
  },
  {
   "cell_type": "code",
   "execution_count": 9,
   "id": "f8ba3ebc-99fc-4155-9091-80b3566c7017",
   "metadata": {},
   "outputs": [
    {
     "name": "stdout",
     "output_type": "stream",
     "text": [
      "La probabiliadad de obtener una bola negra es de:\n",
      "0.165\n"
     ]
    }
   ],
   "source": [
    "probN=d[9]/N\n",
    "print('La probabiliadad de obtener una bola negra es de:\\n%.3f'%probN)"
   ]
  },
  {
   "cell_type": "markdown",
   "id": "9ceb957e-2c2a-40ea-a7c9-e0a2ecbeb345",
   "metadata": {},
   "source": [
    "### Calcular la probabilidad de que la bola obtenida sea de la urna 1 si se ha obtenido una bola negra"
   ]
  },
  {
   "cell_type": "markdown",
   "id": "f1ff5009-af54-451d-ab55-8e80b65176f3",
   "metadata": {},
   "source": [
    "Usando el teorema de Bayes:\n",
    "    \n",
    "$$P(U1|N)=\\frac{P(N|U1)P(U1)}{P(N)}$$\n",
    "\n",
    "Dado que:\n",
    "$$P(N|U1)= \\frac{1}{10} \\hspace{1cm} P(U1)= \\frac{1}{3} \\hspace{1cm} P(N)= \\frac{1}{6} $$\n",
    "Entonces:\n",
    "$$P(U1|N)=\\frac{1}{5}$$"
   ]
  },
  {
   "cell_type": "markdown",
   "id": "ee2e84e6-95c6-4efb-80e6-0981303b5102",
   "metadata": {},
   "source": [
    "### Calcular la probabilidad de que la bola obtenida sea de la urna 2 si se ha obtenido una bola negra"
   ]
  },
  {
   "cell_type": "markdown",
   "id": "60660880-ec5f-4148-9f16-b313ed769aa4",
   "metadata": {},
   "source": [
    "Usando el teorema de Bayes:\n",
    "    \n",
    "$$P(U1|N)=\\frac{P(N|U1)P(U1)}{P(N)}$$\n",
    "\n",
    "Dado que:\n",
    "$$P(N|U2)= \\frac{1}{5} \\hspace{1cm} P(U2)= \\frac{2}{3} \\hspace{1cm} P(N)= \\frac{1}{6} $$\n",
    "Entonces:\n",
    "$$P(U1|N)=\\frac{4}{5}$$"
   ]
  }
 ],
 "metadata": {
  "kernelspec": {
   "display_name": "Python 3 (ipykernel)",
   "language": "python",
   "name": "python3"
  },
  "language_info": {
   "codemirror_mode": {
    "name": "ipython",
    "version": 3
   },
   "file_extension": ".py",
   "mimetype": "text/x-python",
   "name": "python",
   "nbconvert_exporter": "python",
   "pygments_lexer": "ipython3",
   "version": "3.10.6"
  }
 },
 "nbformat": 4,
 "nbformat_minor": 5
}
