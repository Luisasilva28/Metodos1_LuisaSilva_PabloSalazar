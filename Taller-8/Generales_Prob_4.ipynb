{
 "cells": [
  {
   "cell_type": "markdown",
   "id": "7b8b287f-a504-4c70-8337-6495a34e7c83",
   "metadata": {},
   "source": [
    "# PROBABILIDAD DE FECHAS DIFERENTES DE CUMPLEAÑOS"
   ]
  },
  {
   "cell_type": "markdown",
   "id": "aa6ff8f1-ae4d-495a-8c7e-d5cc08bfdc48",
   "metadata": {},
   "source": [
    "Para calcular la probabilidad de que 2 personas en un grupo de n<=365 personas cumplan el mismo día usamos la fórmula:\n",
    "\n",
    "\n",
    "$$\\mathbb{P}(n)=\\prod_{i=0}^n 1-\\frac{i}{365}$$\n"
   ]
  },
  {
   "cell_type": "markdown",
   "id": "748bcf55-8d96-4e36-a798-46b948d020ef",
   "metadata": {},
   "source": [
    "Dado que realmente buscamos que la probabilidad de que las personas no compartan la fecha de cumpleaños:\n",
    "\n",
    "$$Probabilidad=1-\\mathbb{P}(n)$$"
   ]
  },
  {
   "cell_type": "markdown",
   "id": "edac9caf-d8e4-4ada-9dfa-dc023cde9ebf",
   "metadata": {},
   "source": [
    "### IMPLEMENTADO EN CÓDIGO"
   ]
  },
  {
   "cell_type": "markdown",
   "id": "4f2ffc94-5a89-4f2d-a66c-08bceded6210",
   "metadata": {},
   "source": [
    "Definimos la función en el caso general:"
   ]
  },
  {
   "cell_type": "code",
   "execution_count": 70,
   "id": "4cfcbf79-7aca-48aa-8be3-be847c9a2584",
   "metadata": {},
   "outputs": [],
   "source": [
    "def diff_bday_prob(n):\n",
    "    prob=1\n",
    "    for i in range(n):\n",
    "        prob*= 1-i/365\n",
    "    return prob"
   ]
  },
  {
   "cell_type": "markdown",
   "id": "6c9e09d2-f02b-4dcd-b5f6-4e4989316b22",
   "metadata": {},
   "source": [
    "Ahora en el caso de n<=80:"
   ]
  },
  {
   "cell_type": "code",
   "execution_count": 123,
   "id": "7496c9a5-87ba-450d-b765-75b498c78c0f",
   "metadata": {},
   "outputs": [
    {
     "data": {
      "image/png": "[encoded data removed]",
      "text/plain": [
       "<Figure size 432x288 with 1 Axes>"
      ]
     },
     "metadata": {
      "needs_background": "light"
     },
     "output_type": "display_data"
    }
   ],
   "source": [
    "import numpy as np\n",
    "import matplotlib.pyplot as plt\n",
    "n=80\n",
    "\n",
    "fig,ax=plt.subplots()\n",
    "for j in range(n):\n",
    "    prob=diff_bday_prob(j)\n",
    "    ax.scatter(j,prob,c='r')\n",
    "plt.xlabel('Personas')\n",
    "plt.ylabel('P(n)')\n",
    "plt.grid()\n",
    "plt.show()"
   ]
  },
  {
   "cell_type": "code",
   "execution_count": null,
   "id": "f53f8d91-9d42-4469-b735-fa20e89f1b01",
   "metadata": {},
   "outputs": [],
   "source": []
  }
 ],
 "metadata": {
  "kernelspec": {
   "display_name": "Python 3 (ipykernel)",
   "language": "python",
   "name": "python3"
  },
  "language_info": {
   "codemirror_mode": {
    "name": "ipython",
    "version": 3
   },
   "file_extension": ".py",
   "mimetype": "text/x-python",
   "name": "python",
   "nbconvert_exporter": "python",
   "pygments_lexer": "ipython3",
   "version": "3.10.6"
  }
 },
 "nbformat": 4,
 "nbformat_minor": 5
}
