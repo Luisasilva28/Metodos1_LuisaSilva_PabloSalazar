{
 "cells": [
  {
   "cell_type": "code",
   "execution_count": 1,
   "id": "d55c9613-2c2f-46e1-b2b4-b92880c9d787",
   "metadata": {},
   "outputs": [],
   "source": [
    "import numpy as np\n",
    "import matplotlib.pyplot as plt"
   ]
  },
  {
   "cell_type": "code",
   "execution_count": 17,
   "id": "bac563bc-eac3-4ca6-b7e7-bba1e1062019",
   "metadata": {},
   "outputs": [],
   "source": [
    "Diario = np.array([0,1]) #0 no 1 si\n",
    "Cable = np.array([0,1]) #0 no 1 si"
   ]
  },
  {
   "cell_type": "code",
   "execution_count": 18,
   "id": "ed1c394f-a142-4e44-a2a5-1b8c06e98d5c",
   "metadata": {},
   "outputs": [],
   "source": [
    "PDiario = np.array([0.4,0.6])\n",
    "PCable = np.array([0.2,0.8])"
   ]
  },
  {
   "cell_type": "code",
   "execution_count": 79,
   "id": "6541dd44-7b83-4075-8c55-02c88855a816",
   "metadata": {},
   "outputs": [],
   "source": [
    "N = int(1e5)\n",
    "\n",
    "LAmbos = np.zeros(N)\n",
    "LUno = np.zeros(N)\n",
    "LSolo1 = np.zeros(N) \n",
    "\n",
    "for i in range(N):\n",
    "    diario = np.random.choice(Diario,p=PDiario)\n",
    "    cable = np.random.choice(Cable,p=PCable)\n",
    "    \n",
    "    if diario==1 and cable==1:\n",
    "        LAmbos[i]=1\n",
    "        LUno[i]=1\n",
    "        LSolo1[i]=0\n",
    "\n",
    "    elif (diario==1 and cable==0) or (diario==0 and cable==1):\n",
    "        LUno[i]=1\n",
    "        LSolo1[i]=1\n",
    "        LAmbos[i]=0\n",
    "   \n",
    "    else:\n",
    "        LUno[i]=0\n",
    "        LAmbos[i]=0\n",
    "        LSolo1[i]=0\n",
    "        "
   ]
  },
  {
   "cell_type": "markdown",
   "id": "61f3f0b3-5a58-46f8-89b2-16af63572ffd",
   "metadata": {},
   "source": [
    "### Para al menos 1 de los dos servicios"
   ]
  },
  {
   "cell_type": "code",
   "execution_count": 80,
   "id": "a2717f44-8db3-44a2-b525-b4cf97b461a8",
   "metadata": {},
   "outputs": [
    {
     "data": {
      "image/png": "[encoded data removed]",
      "text/plain": [
       "<Figure size 432x288 with 1 Axes>"
      ]
     },
     "metadata": {
      "needs_background": "light"
     },
     "output_type": "display_data"
    }
   ],
   "source": [
    "a,b,c=plt.hist(LUno)\n",
    "plt.title(\"Probabilidad suscripción al menos 1 servicio\")\n",
    "plt.show()"
   ]
  },
  {
   "cell_type": "code",
   "execution_count": 85,
   "id": "bb1b7b74-b3ec-4b7b-b799-a705b45e8b0c",
   "metadata": {},
   "outputs": [
    {
     "name": "stdout",
     "output_type": "stream",
     "text": [
      "La probabilidad calculada de que un propietario esté suscrito a al menos 1 de los 2 servicios es de:\n",
      "91.995 por ciento\n"
     ]
    }
   ],
   "source": [
    "prob_1_de_2=a[9]*100/N\n",
    "print('La probabilidad calculada de que un propietario esté suscrito a al menos 1 de los 2 servicios es de:\\n%.3f por ciento'%prob_1_de_2)"
   ]
  },
  {
   "cell_type": "markdown",
   "id": "5a6dbcef-ba6b-446a-9299-9e9a6ec847a2",
   "metadata": {},
   "source": [
    "### Para 1 de los 2 pero no ambos servicios"
   ]
  },
  {
   "cell_type": "code",
   "execution_count": 82,
   "id": "fdd63cc4-b408-439b-9791-442cebffa605",
   "metadata": {},
   "outputs": [
    {
     "data": {
      "image/png": "[encoded data removed]",
      "text/plain": [
       "<Figure size 432x288 with 1 Axes>"
      ]
     },
     "metadata": {
      "needs_background": "light"
     },
     "output_type": "display_data"
    }
   ],
   "source": [
    "d,e,f=plt.hist(LSolo1)\n",
    "plt.title(\"Probabilidad suscripción solo 1 servicio\")\n",
    "plt.show()"
   ]
  },
  {
   "cell_type": "code",
   "execution_count": 84,
   "id": "8b48a6ad-54c0-47ee-bd9b-d04a08e18f48",
   "metadata": {},
   "outputs": [
    {
     "name": "stdout",
     "output_type": "stream",
     "text": [
      "La probabilidad calculada de que un propietario esté suscrito a solo 1 de los 2 servicios es de:\n",
      "44.431 porciento\n"
     ]
    }
   ],
   "source": [
    "prob_solo_1=d[9]*100/N\n",
    "print('La probabilidad calculada de que un propietario esté suscrito a solo 1 de los 2 servicios es de:\\n%.3f porciento'%prob_solo_1)"
   ]
  }
 ],
 "metadata": {
  "kernelspec": {
   "display_name": "Python 3 (ipykernel)",
   "language": "python",
   "name": "python3"
  },
  "language_info": {
   "codemirror_mode": {
    "name": "ipython",
    "version": 3
   },
   "file_extension": ".py",
   "mimetype": "text/x-python",
   "name": "python",
   "nbconvert_exporter": "python",
   "pygments_lexer": "ipython3",
   "version": "3.10.6"
  }
 },
 "nbformat": 4,
 "nbformat_minor": 5
}
