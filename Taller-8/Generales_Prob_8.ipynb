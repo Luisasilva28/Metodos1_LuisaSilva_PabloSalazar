{
 "cells": [
  {
   "cell_type": "code",
   "execution_count": 1,
   "id": "d55c9613-2c2f-46e1-b2b4-b92880c9d787",
   "metadata": {},
   "outputs": [],
   "source": [
    "import numpy as np"
   ]
  },
  {
   "cell_type": "code",
   "execution_count": 2,
   "id": "0af74f56-46ff-4816-8324-26aca18f3844",
   "metadata": {},
   "outputs": [],
   "source": [
    "events = np.array([1,-1]) #+1 cara : -1 sello\n",
    "ncoins=4\n",
    "N=int(1e5)\n",
    "Sample=np.zeros((N,ncoins))\n",
    "for i in range(N):\n",
    "    exp = np.random.choice(events,ncoins)\n",
    "    Sample[i] = exp"
   ]
  },
  {
   "cell_type": "code",
   "execution_count": 3,
   "id": "d42aaf77-6e7a-40c5-b15a-47441d07b119",
   "metadata": {},
   "outputs": [],
   "source": [
    "events = 0\n",
    "for i in range(len(Sample)):\n",
    "    NCaras=0\n",
    "    for j in range(ncoins):\n",
    "        if Sample[i][j]==1:\n",
    "            NCaras+=1\n",
    "    if NCaras==2:\n",
    "        events+=1"
   ]
  },
  {
   "cell_type": "code",
   "execution_count": 4,
   "id": "37e8a7af-74be-4536-b616-0e187692a22a",
   "metadata": {},
   "outputs": [
    {
     "name": "stdout",
     "output_type": "stream",
     "text": [
      "La probabilidad calculada para obtener 2 caras y dos sellos al lanzar 4 monedas fue de:\n",
      "0.372\n",
      "\n",
      "Con un error relativo de:\n",
      "0.877 por ciento\n",
      "\n",
      "Frente al valor esperado de:\n",
      "0.375\n"
     ]
    }
   ],
   "source": [
    "prob=events/N\n",
    "prob_real=3/8\n",
    "error_absoluto=np.abs(prob-prob_real)\n",
    "error_relativo=100*error_absoluto/prob_real\n",
    "\n",
    "print('La probabilidad calculada para obtener 2 caras y dos sellos al lanzar 4 monedas fue de:\\n%.3f\\n'%prob)\n",
    "print('Con un error relativo de:\\n%.3f por ciento\\n'%error_relativo)\n",
    "print('Frente al valor esperado de:\\n%.3f'%prob_real)"
   ]
  },
  {
   "cell_type": "code",
   "execution_count": null,
   "id": "c25ffa2e-bb61-48d9-9db0-0aafcf129f75",
   "metadata": {},
   "outputs": [],
   "source": []
  }
 ],
 "metadata": {
  "kernelspec": {
   "display_name": "Python 3 (ipykernel)",
   "language": "python",
   "name": "python3"
  },
  "language_info": {
   "codemirror_mode": {
    "name": "ipython",
    "version": 3
   },
   "file_extension": ".py",
   "mimetype": "text/x-python",
   "name": "python",
   "nbconvert_exporter": "python",
   "pygments_lexer": "ipython3",
   "version": "3.10.6"
  }
 },
 "nbformat": 4,
 "nbformat_minor": 5
}
