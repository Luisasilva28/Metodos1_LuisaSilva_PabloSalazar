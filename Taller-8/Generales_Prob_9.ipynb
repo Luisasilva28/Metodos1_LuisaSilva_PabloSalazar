{
 "cells": [
  {
   "cell_type": "code",
   "execution_count": 2,
   "id": "181cbe3d-565a-4c04-9c35-ac26705fd0b2",
   "metadata": {},
   "outputs": [],
   "source": [
    "import numpy as np\n",
    "import matplotlib.pyplot as plt"
   ]
  },
  {
   "cell_type": "code",
   "execution_count": 15,
   "id": "1f2fb848-d838-4d86-acef-1ffc4696cf56",
   "metadata": {},
   "outputs": [],
   "source": [
    "events = np.array([1,-1]) #+1 cara : -1 sello\n",
    "ncoins=4\n",
    "N=int(1e5)\n",
    "Sample=np.zeros((N,ncoins))\n",
    "for i in range(N):\n",
    "    PM1=[0.2,0.8]\n",
    "    PM2=[0.2,0.8]\n",
    "    exp=np.zeros(ncoins)\n",
    "    exp[0] = np.random.choice(events,1,p=PM1)\n",
    "    exp[1] = np.random.choice(events,p=PM2)\n",
    "    exp[2] = np.random.choice(events)\n",
    "    exp[3] = np.random.choice(events)\n",
    "    Sample[i] = exp\n"
   ]
  },
  {
   "cell_type": "code",
   "execution_count": 16,
   "id": "1abc0d81-f995-4bf6-9fbf-7e12c0ff5071",
   "metadata": {},
   "outputs": [],
   "source": [
    "events = 0\n",
    "for i in range(len(Sample)):\n",
    "    NCaras=0\n",
    "    NSellos=0\n",
    "    for j in range(ncoins):\n",
    "        if Sample[i][j]==1:\n",
    "            NCaras+=1\n",
    "            \n",
    "    if NCaras==2:\n",
    "        events+=1"
   ]
  },
  {
   "cell_type": "code",
   "execution_count": null,
   "id": "545eeafa-9f53-4631-b4f5-545742680fe8",
   "metadata": {},
   "outputs": [],
   "source": []
  }
 ],
 "metadata": {
  "kernelspec": {
   "display_name": "Python 3 (ipykernel)",
   "language": "python",
   "name": "python3"
  },
  "language_info": {
   "codemirror_mode": {
    "name": "ipython",
    "version": 3
   },
   "file_extension": ".py",
   "mimetype": "text/x-python",
   "name": "python",
   "nbconvert_exporter": "python",
   "pygments_lexer": "ipython3",
   "version": "3.10.6"
  }
 },
 "nbformat": 4,
 "nbformat_minor": 5
}
